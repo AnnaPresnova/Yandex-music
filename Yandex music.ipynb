{
 "cells": [
  {
   "cell_type": "markdown",
   "metadata": {
    "id": "E0vqbgi9ay0H"
   },
   "source": [
    "# ПРОЕКТ Яндекс.Музыка"
   ]
  },
  {
   "cell_type": "markdown",
   "metadata": {
    "id": "VUC88oWjTJw2"
   },
   "source": [
    "Сравнение Москвы и Петербурга окружено мифами. Например:\n",
    " * Москва — мегаполис, подчинённый жёсткому ритму рабочей недели;\n",
    " * Петербург — культурная столица, со своими вкусами.\n",
    "\n",
    "**Цель исследования** — сравнить поведение пользователей двух столиц и проверить три гипотезы:\n",
    "1. Активность пользователей зависит от дня недели. Причём в Москве и Петербурге это проявляется по-разному.\n",
    "2. В понедельник утром в Москве преобладают одни жанры, а в Петербурге — другие. Так же и вечером пятницы преобладают разные жанры — в зависимости от города. \n",
    "3. Москва и Петербург предпочитают разные жанры музыки. В Москве чаще слушают поп-музыку, в Петербурге — русский рэп.\n",
    "\n",
    "**Ход исследования**\n",
    "\n",
    "Проверить данные на ошибки и оценить их влияние на исследование. Затем, на этапе предобработки  исправить самые критичные ошибки данных.\n",
    " \n",
    "Таким образом, исследование пройдёт в три этапа:\n",
    " 1. Обзор данных.\n",
    " 2. Предобработка данных.\n",
    " 3. Проверка гипотез.\n",
    "\n"
   ]
  },
  {
   "cell_type": "markdown",
   "metadata": {
    "id": "Ml1hmfXC_Zcs"
   },
   "source": [
    "## Обзор данных\n",
    "\n",
    "Составим первое представление о данных Яндекс.Музыки.\n",
    "\n",
    "\n"
   ]
  },
  {
   "cell_type": "code",
   "execution_count": 2,
   "metadata": {
    "id": "AXN7PHPN_Zcs"
   },
   "outputs": [],
   "source": [
    " # импорт библиотеки pandas\n",
    "    \n",
    "import pandas as pd"
   ]
  },
  {
   "cell_type": "code",
   "execution_count": 3,
   "metadata": {
    "id": "fFVu7vqh_Zct"
   },
   "outputs": [],
   "source": [
    "# чтение файла с данными и сохранение в df\n",
    "\n",
    "df = pd.read_csv('/datasets/yandex_music_project.csv')"
   ]
  },
  {
   "cell_type": "code",
   "execution_count": 4,
   "metadata": {
    "id": "oWTVX3gW_Zct"
   },
   "outputs": [
    {
     "data": {
      "text/html": [
       "<div>\n",
       "<style scoped>\n",
       "    .dataframe tbody tr th:only-of-type {\n",
       "        vertical-align: middle;\n",
       "    }\n",
       "\n",
       "    .dataframe tbody tr th {\n",
       "        vertical-align: top;\n",
       "    }\n",
       "\n",
       "    .dataframe thead th {\n",
       "        text-align: right;\n",
       "    }\n",
       "</style>\n",
       "<table border=\"1\" class=\"dataframe\">\n",
       "  <thead>\n",
       "    <tr style=\"text-align: right;\">\n",
       "      <th></th>\n",
       "      <th>userID</th>\n",
       "      <th>Track</th>\n",
       "      <th>artist</th>\n",
       "      <th>genre</th>\n",
       "      <th>City</th>\n",
       "      <th>time</th>\n",
       "      <th>Day</th>\n",
       "    </tr>\n",
       "  </thead>\n",
       "  <tbody>\n",
       "    <tr>\n",
       "      <td>0</td>\n",
       "      <td>FFB692EC</td>\n",
       "      <td>Kamigata To Boots</td>\n",
       "      <td>The Mass Missile</td>\n",
       "      <td>rock</td>\n",
       "      <td>Saint-Petersburg</td>\n",
       "      <td>20:28:33</td>\n",
       "      <td>Wednesday</td>\n",
       "    </tr>\n",
       "    <tr>\n",
       "      <td>1</td>\n",
       "      <td>55204538</td>\n",
       "      <td>Delayed Because of Accident</td>\n",
       "      <td>Andreas Rönnberg</td>\n",
       "      <td>rock</td>\n",
       "      <td>Moscow</td>\n",
       "      <td>14:07:09</td>\n",
       "      <td>Friday</td>\n",
       "    </tr>\n",
       "    <tr>\n",
       "      <td>2</td>\n",
       "      <td>20EC38</td>\n",
       "      <td>Funiculì funiculà</td>\n",
       "      <td>Mario Lanza</td>\n",
       "      <td>pop</td>\n",
       "      <td>Saint-Petersburg</td>\n",
       "      <td>20:58:07</td>\n",
       "      <td>Wednesday</td>\n",
       "    </tr>\n",
       "    <tr>\n",
       "      <td>3</td>\n",
       "      <td>A3DD03C9</td>\n",
       "      <td>Dragons in the Sunset</td>\n",
       "      <td>Fire + Ice</td>\n",
       "      <td>folk</td>\n",
       "      <td>Saint-Petersburg</td>\n",
       "      <td>08:37:09</td>\n",
       "      <td>Monday</td>\n",
       "    </tr>\n",
       "    <tr>\n",
       "      <td>4</td>\n",
       "      <td>E2DC1FAE</td>\n",
       "      <td>Soul People</td>\n",
       "      <td>Space Echo</td>\n",
       "      <td>dance</td>\n",
       "      <td>Moscow</td>\n",
       "      <td>08:34:34</td>\n",
       "      <td>Monday</td>\n",
       "    </tr>\n",
       "    <tr>\n",
       "      <td>5</td>\n",
       "      <td>842029A1</td>\n",
       "      <td>Преданная</td>\n",
       "      <td>IMPERVTOR</td>\n",
       "      <td>rusrap</td>\n",
       "      <td>Saint-Petersburg</td>\n",
       "      <td>13:09:41</td>\n",
       "      <td>Friday</td>\n",
       "    </tr>\n",
       "    <tr>\n",
       "      <td>6</td>\n",
       "      <td>4CB90AA5</td>\n",
       "      <td>True</td>\n",
       "      <td>Roman Messer</td>\n",
       "      <td>dance</td>\n",
       "      <td>Moscow</td>\n",
       "      <td>13:00:07</td>\n",
       "      <td>Wednesday</td>\n",
       "    </tr>\n",
       "    <tr>\n",
       "      <td>7</td>\n",
       "      <td>F03E1C1F</td>\n",
       "      <td>Feeling This Way</td>\n",
       "      <td>Polina Griffith</td>\n",
       "      <td>dance</td>\n",
       "      <td>Moscow</td>\n",
       "      <td>20:47:49</td>\n",
       "      <td>Wednesday</td>\n",
       "    </tr>\n",
       "    <tr>\n",
       "      <td>8</td>\n",
       "      <td>8FA1D3BE</td>\n",
       "      <td>И вновь продолжается бой</td>\n",
       "      <td>NaN</td>\n",
       "      <td>ruspop</td>\n",
       "      <td>Moscow</td>\n",
       "      <td>09:17:40</td>\n",
       "      <td>Friday</td>\n",
       "    </tr>\n",
       "    <tr>\n",
       "      <td>9</td>\n",
       "      <td>E772D5C0</td>\n",
       "      <td>Pessimist</td>\n",
       "      <td>NaN</td>\n",
       "      <td>dance</td>\n",
       "      <td>Saint-Petersburg</td>\n",
       "      <td>21:20:49</td>\n",
       "      <td>Wednesday</td>\n",
       "    </tr>\n",
       "  </tbody>\n",
       "</table>\n",
       "</div>"
      ],
      "text/plain": [
       "     userID                        Track            artist   genre  \\\n",
       "0  FFB692EC            Kamigata To Boots  The Mass Missile    rock   \n",
       "1  55204538  Delayed Because of Accident  Andreas Rönnberg    rock   \n",
       "2    20EC38            Funiculì funiculà       Mario Lanza     pop   \n",
       "3  A3DD03C9        Dragons in the Sunset        Fire + Ice    folk   \n",
       "4  E2DC1FAE                  Soul People        Space Echo   dance   \n",
       "5  842029A1                    Преданная         IMPERVTOR  rusrap   \n",
       "6  4CB90AA5                         True      Roman Messer   dance   \n",
       "7  F03E1C1F             Feeling This Way   Polina Griffith   dance   \n",
       "8  8FA1D3BE     И вновь продолжается бой               NaN  ruspop   \n",
       "9  E772D5C0                    Pessimist               NaN   dance   \n",
       "\n",
       "             City        time        Day  \n",
       "0  Saint-Petersburg  20:28:33  Wednesday  \n",
       "1            Moscow  14:07:09     Friday  \n",
       "2  Saint-Petersburg  20:58:07  Wednesday  \n",
       "3  Saint-Petersburg  08:37:09     Monday  \n",
       "4            Moscow  08:34:34     Monday  \n",
       "5  Saint-Petersburg  13:09:41     Friday  \n",
       "6            Moscow  13:00:07  Wednesday  \n",
       "7            Moscow  20:47:49  Wednesday  \n",
       "8            Moscow  09:17:40     Friday  \n",
       "9  Saint-Petersburg  21:20:49  Wednesday  "
      ]
     },
     "execution_count": 4,
     "metadata": {},
     "output_type": "execute_result"
    }
   ],
   "source": [
    "# получение первых 10 строк таблицы df\n",
    "\n",
    "df.head(10)"
   ]
  },
  {
   "cell_type": "code",
   "execution_count": 5,
   "metadata": {
    "id": "DSf2kIb-_Zct"
   },
   "outputs": [
    {
     "name": "stdout",
     "output_type": "stream",
     "text": [
      "<class 'pandas.core.frame.DataFrame'>\n",
      "RangeIndex: 65079 entries, 0 to 65078\n",
      "Data columns (total 7 columns):\n",
      "  userID    65079 non-null object\n",
      "Track       63848 non-null object\n",
      "artist      57876 non-null object\n",
      "genre       63881 non-null object\n",
      "  City      65079 non-null object\n",
      "time        65079 non-null object\n",
      "Day         65079 non-null object\n",
      "dtypes: object(7)\n",
      "memory usage: 3.5+ MB\n"
     ]
    }
   ],
   "source": [
    " # получение общей информации о данных в таблице df\n",
    "    \n",
    "df.info()"
   ]
  },
  {
   "cell_type": "markdown",
   "metadata": {
    "id": "TaQ2Iwbr_Zct"
   },
   "source": [
    "Итак, в таблице семь столбцов. Тип данных во всех столбцах — `object`.\n",
    "\n",
    "Согласно документации к данным:\n",
    "* `userID` — идентификатор пользователя;\n",
    "* `Track` — название трека;  \n",
    "* `artist` — имя исполнителя;\n",
    "* `genre` — название жанра;\n",
    "* `City` — город пользователя;\n",
    "* `time` — время начала прослушивания;\n",
    "* `Day` — день недели.\n",
    "\n",
    "В названиях колонок видны три нарушения стиля:\n",
    "1. Строчные буквы сочетаются с прописными.\n",
    "2. Встречаются пробелы.\n",
    "3. Некорректный стиль написания (не использован змеиный регистр в названиях, состоящих из двух слов).\n",
    "\n",
    "\n",
    "\n",
    "Количество значений в столбцах различается. Значит, в данных есть пропущенные значения.\n"
   ]
  },
  {
   "cell_type": "markdown",
   "metadata": {
    "id": "MCB6-dXG_Zct"
   },
   "source": [
    "**Выводы**\n",
    "\n",
    "В каждой строке таблицы — данные о прослушанном треке. Часть колонок описывает саму композицию: название, исполнителя и жанр. Остальные данные рассказывают о пользователе: из какого он города, когда он слушал музыку. \n",
    "\n",
    "Предварительно можно утверждать, что, данных достаточно для проверки гипотез. Но встречаются пропуски в данных, а в названиях колонок — расхождения с хорошим стилем.\n",
    "\n",
    "Чтобы двигаться дальше, нужно устранить проблемы в данных."
   ]
  },
  {
   "cell_type": "markdown",
   "metadata": {
    "id": "dIaKXr29_Zct"
   },
   "source": [
    "### Стиль заголовков\n",
    "Выведите на экран названия столбцов:"
   ]
  },
  {
   "cell_type": "code",
   "execution_count": 6,
   "metadata": {
    "id": "oKOTdF_Q_Zct"
   },
   "outputs": [
    {
     "data": {
      "text/plain": [
       "Index(['  userID', 'Track', 'artist', 'genre', '  City  ', 'time', 'Day'], dtype='object')"
      ]
     },
     "execution_count": 6,
     "metadata": {},
     "output_type": "execute_result"
    }
   ],
   "source": [
    "# перечень названий столбцов таблицы df\n",
    "\n",
    "df.columns"
   ]
  },
  {
   "cell_type": "markdown",
   "metadata": {
    "id": "zj5534cv_Zct"
   },
   "source": [
    "Приведем названия в соответствие с хорошим стилем:\n",
    "* несколько слов в названии запишем в «змеином_регистре»,\n",
    "* все символы сделаем строчными,\n",
    "* устраним пробелы.\n",
    "\n",
    "Для этого переименуем колонки так:\n",
    "* `'  userID'` → `'user_id'`;\n",
    "* `'Track'` → `'track'`;\n",
    "* `'  City  '` → `'city'`;\n",
    "* `'Day'` → `'day'`."
   ]
  },
  {
   "cell_type": "code",
   "execution_count": 7,
   "metadata": {
    "id": "ISlFqs5y_Zct"
   },
   "outputs": [],
   "source": [
    "# переименование столбцов\n",
    "\n",
    "df = df.rename(columns={'  userID': 'user_id', 'Track': 'track', '  City  ': 'city', 'Day': 'day'})"
   ]
  },
  {
   "cell_type": "code",
   "execution_count": 8,
   "metadata": {
    "id": "d4NOAmTW_Zct"
   },
   "outputs": [
    {
     "data": {
      "text/plain": [
       "Index(['user_id', 'track', 'artist', 'genre', 'city', 'time', 'day'], dtype='object')"
      ]
     },
     "execution_count": 8,
     "metadata": {},
     "output_type": "execute_result"
    }
   ],
   "source": [
    "# проверка результатов - перечень названий столбцов\n",
    "\n",
    "df.columns"
   ]
  },
  {
   "cell_type": "markdown",
   "metadata": {},
   "source": [
    "Переименование прошло успешно."
   ]
  },
  {
   "cell_type": "markdown",
   "metadata": {
    "id": "5ISfbcfY_Zct"
   },
   "source": [
    "### Пропуски значений\n",
    "Сначала посчитаем, сколько в таблице пропущенных значений. Для этого достаточно двух методов `pandas`:"
   ]
  },
  {
   "cell_type": "code",
   "execution_count": 9,
   "metadata": {
    "id": "RskX29qr_Zct"
   },
   "outputs": [
    {
     "data": {
      "text/plain": [
       "user_id       0\n",
       "track      1231\n",
       "artist     7203\n",
       "genre      1198\n",
       "city          0\n",
       "time          0\n",
       "day           0\n",
       "dtype: int64"
      ]
     },
     "execution_count": 9,
     "metadata": {},
     "output_type": "execute_result"
    }
   ],
   "source": [
    "# подсчёт пропусков\n",
    "df.isna().sum()"
   ]
  },
  {
   "cell_type": "markdown",
   "metadata": {
    "id": "qubhgnlO_Zct"
   },
   "source": [
    "Не все пропущенные значения влияют на исследование. Так в `track` и `artist` пропуски не нажны для вашей работы. Достаточно заменить их явными обозначениями.\n",
    "\n",
    "Но пропуски в `genre` могут помешать сравнению музыкальных вкусов в Москве и Санкт-Петербурге. На практике было бы правильно установить причину пропусков и восстановить данные. Такой возможности нет. Придётся:\n",
    "* заполнить и эти пропуски явными обозначениями,\n",
    "* оценить, насколько они повредят расчётам. "
   ]
  },
  {
   "cell_type": "markdown",
   "metadata": {
    "id": "fSv2laPA_Zct"
   },
   "source": [
    "Заменим пропущенные значения в столбцах `track`, `artist` и `genre` на строку `'unknown'`. Для этого создадим список `columns_to_replace`, переберем его элементы циклом `for` и для каждого столбца выполните замену пропущенных значений:"
   ]
  },
  {
   "cell_type": "code",
   "execution_count": 10,
   "metadata": {
    "id": "KplB5qWs_Zct"
   },
   "outputs": [],
   "source": [
    "# перебор названий столбцов в цикле и замена пропущенных значений на 'unknown'\n",
    "\n",
    "columns_to_replace = ['track', 'artist', 'genre']\n",
    "\n",
    "for column in columns_to_replace:\n",
    "    \n",
    "    df[column] = df[column].fillna('unknown')"
   ]
  },
  {
   "cell_type": "markdown",
   "metadata": {
    "id": "Ilsm-MZo_Zct"
   },
   "source": [
    "Убеждаемся, что в таблице не осталось пропусков. Для этого ещё раз посчитаем пропущенные значения."
   ]
  },
  {
   "cell_type": "code",
   "execution_count": 11,
   "metadata": {
    "id": "Tq4nYRX4_Zct",
    "scrolled": true
   },
   "outputs": [
    {
     "data": {
      "text/plain": [
       "user_id    0\n",
       "track      0\n",
       "artist     0\n",
       "genre      0\n",
       "city       0\n",
       "time       0\n",
       "day        0\n",
       "dtype: int64"
      ]
     },
     "execution_count": 11,
     "metadata": {},
     "output_type": "execute_result"
    }
   ],
   "source": [
    "# подсчёт пропусков\n",
    "\n",
    "df.isna().sum()"
   ]
  },
  {
   "cell_type": "markdown",
   "metadata": {},
   "source": [
    "Пропущенных значений нет."
   ]
  },
  {
   "cell_type": "markdown",
   "metadata": {
    "id": "BWKRtBJ3_Zct"
   },
   "source": [
    "### Дубликаты\n",
    "Посчитаем явные дубликаты в таблице одной командой:"
   ]
  },
  {
   "cell_type": "code",
   "execution_count": 12,
   "metadata": {
    "id": "36eES_S0_Zct"
   },
   "outputs": [
    {
     "data": {
      "text/plain": [
       "3826"
      ]
     },
     "execution_count": 12,
     "metadata": {},
     "output_type": "execute_result"
    }
   ],
   "source": [
    "# подсчёт явных дубликатов\n",
    "\n",
    "df.duplicated().sum()"
   ]
  },
  {
   "cell_type": "markdown",
   "metadata": {
    "id": "Ot25h6XR_Zct"
   },
   "source": [
    "Вызовем специальный метод `pandas`, чтобы удалить явные дубликаты:"
   ]
  },
  {
   "cell_type": "code",
   "execution_count": 13,
   "metadata": {
    "id": "exFHq6tt_Zct"
   },
   "outputs": [],
   "source": [
    "# удаление явных дубликатов (с удалением старых индексов и формированием новых)\n",
    "\n",
    "df = df.drop_duplicates().reset_index(drop=True)"
   ]
  },
  {
   "cell_type": "markdown",
   "metadata": {
    "id": "Im2YwBEG_Zct"
   },
   "source": [
    "Ещё раз посчитаем явные дубликаты в таблице — убедимся, что полностью от них избавились:"
   ]
  },
  {
   "cell_type": "code",
   "execution_count": 14,
   "metadata": {
    "id": "-8PuNWQ0_Zct"
   },
   "outputs": [
    {
     "data": {
      "text/plain": [
       "0"
      ]
     },
     "execution_count": 14,
     "metadata": {},
     "output_type": "execute_result"
    }
   ],
   "source": [
    "# проверка на отсутствие дубликатов\n",
    "\n",
    "df.duplicated().sum()"
   ]
  },
  {
   "cell_type": "markdown",
   "metadata": {
    "id": "QlFBsxAr_Zct"
   },
   "source": [
    "Теперь избавимся от неявных дубликатов в колонке `genre`. Например, название одного и того же жанра может быть записано немного по-разному. Такие ошибки тоже повлияют на результат исследования."
   ]
  },
  {
   "cell_type": "markdown",
   "metadata": {
    "id": "eSjWwsOh_Zct"
   },
   "source": [
    "Выведем на экран список уникальных названий жанров, отсортированный в алфавитном порядке. Для этого:\n",
    "\n",
    "* извлечем нужный столбец датафрейма, \n",
    "\n",
    "* применим к нему метод сортировки,\n",
    "\n",
    "* для отсортированного столбца вызовем метод, который вернёт уникальные значения из столбца."
   ]
  },
  {
   "cell_type": "code",
   "execution_count": 20,
   "metadata": {
    "id": "JIUcqzZN_Zct"
   },
   "outputs": [
    {
     "data": {
      "text/plain": [
       "array(['acid', 'acoustic', 'action', 'adult', 'africa', 'afrikaans',\n",
       "       'alternative', 'alternativepunk', 'ambient', 'americana',\n",
       "       'animated', 'anime', 'arabesk', 'arabic', 'arena',\n",
       "       'argentinetango', 'art', 'audiobook', 'author', 'avantgarde',\n",
       "       'axé', 'baile', 'balkan', 'beats', 'bigroom', 'black', 'bluegrass',\n",
       "       'blues', 'bollywood', 'bossa', 'brazilian', 'breakbeat', 'breaks',\n",
       "       'broadway', 'cantautori', 'cantopop', 'canzone', 'caribbean',\n",
       "       'caucasian', 'celtic', 'chamber', 'chanson', 'children', 'chill',\n",
       "       'chinese', 'choral', 'christian', 'christmas', 'classical',\n",
       "       'classicmetal', 'club', 'colombian', 'comedy', 'conjazz',\n",
       "       'contemporary', 'country', 'cuban', 'dance', 'dancehall',\n",
       "       'dancepop', 'dark', 'death', 'deep', 'deutschrock', 'deutschspr',\n",
       "       'dirty', 'disco', 'dnb', 'documentary', 'downbeat', 'downtempo',\n",
       "       'drum', 'dub', 'dubstep', 'eastern', 'easy', 'electronic',\n",
       "       'electropop', 'emo', 'entehno', 'epicmetal', 'estrada', 'ethnic',\n",
       "       'eurofolk', 'european', 'experimental', 'extrememetal', 'fado',\n",
       "       'fairytail', 'film', 'fitness', 'flamenco', 'folk', 'folklore',\n",
       "       'folkmetal', 'folkrock', 'folktronica', 'forró', 'frankreich',\n",
       "       'französisch', 'french', 'funk', 'future', 'gangsta', 'garage',\n",
       "       'german', 'ghazal', 'gitarre', 'glitch', 'gospel', 'gothic',\n",
       "       'grime', 'grunge', 'gypsy', 'handsup', \"hard'n'heavy\", 'hardcore',\n",
       "       'hardstyle', 'hardtechno', 'hip', 'hip-hop', 'hiphop',\n",
       "       'historisch', 'holiday', 'hop', 'horror', 'house', 'hymn', 'idm',\n",
       "       'independent', 'indian', 'indie', 'indipop', 'industrial',\n",
       "       'inspirational', 'instrumental', 'international', 'irish', 'jam',\n",
       "       'japanese', 'jazz', 'jewish', 'jpop', 'jungle', 'k-pop',\n",
       "       'karadeniz', 'karaoke', 'kayokyoku', 'korean', 'laiko', 'latin',\n",
       "       'latino', 'leftfield', 'local', 'lounge', 'loungeelectronic',\n",
       "       'lovers', 'malaysian', 'mandopop', 'marschmusik', 'meditative',\n",
       "       'mediterranean', 'melodic', 'metal', 'metalcore', 'mexican',\n",
       "       'middle', 'minimal', 'miscellaneous', 'modern', 'mood', 'mpb',\n",
       "       'muslim', 'native', 'neoklassik', 'neue', 'new', 'newage',\n",
       "       'newwave', 'nu', 'nujazz', 'numetal', 'oceania', 'old', 'opera',\n",
       "       'orchestral', 'other', 'piano', 'podcasts', 'pop', 'popdance',\n",
       "       'popelectronic', 'popeurodance', 'poprussian', 'post',\n",
       "       'posthardcore', 'postrock', 'power', 'progmetal', 'progressive',\n",
       "       'psychedelic', 'punjabi', 'punk', 'quebecois', 'ragga', 'ram',\n",
       "       'rancheras', 'rap', 'rave', 'reggae', 'reggaeton', 'regional',\n",
       "       'relax', 'religious', 'retro', 'rhythm', 'rnb', 'rnr', 'rock',\n",
       "       'rockabilly', 'rockalternative', 'rockindie', 'rockother',\n",
       "       'romance', 'roots', 'ruspop', 'rusrap', 'rusrock', 'russian',\n",
       "       'salsa', 'samba', 'scenic', 'schlager', 'self', 'sertanejo',\n",
       "       'shanson', 'shoegazing', 'showtunes', 'singer', 'ska', 'skarock',\n",
       "       'slow', 'smooth', 'soft', 'soul', 'soulful', 'sound', 'soundtrack',\n",
       "       'southern', 'specialty', 'speech', 'spiritual', 'sport',\n",
       "       'stonerrock', 'surf', 'swing', 'synthpop', 'synthrock',\n",
       "       'sängerportrait', 'tango', 'tanzorchester', 'taraftar', 'tatar',\n",
       "       'tech', 'techno', 'teen', 'thrash', 'top', 'traditional',\n",
       "       'tradjazz', 'trance', 'tribal', 'trip', 'triphop', 'tropical',\n",
       "       'türk', 'türkçe', 'ukrrock', 'unknown', 'urban', 'uzbek',\n",
       "       'variété', 'vi', 'videogame', 'vocal', 'western', 'world',\n",
       "       'worldbeat', 'ïîï', 'электроника'], dtype=object)"
      ]
     },
     "execution_count": 20,
     "metadata": {},
     "output_type": "execute_result"
    }
   ],
   "source": [
    "# Просмотр уникальных названий жанров\n",
    "\n",
    "df['genre'].sort_values().unique()\n",
    " "
   ]
  },
  {
   "cell_type": "markdown",
   "metadata": {
    "id": "qej-Qmuo_Zct"
   },
   "source": [
    "Просмотрим список и найдем неявные дубликаты названия `hiphop`. \n",
    "\n",
    "Видим следующие неявные дубликаты:\n",
    "* *hip*,\n",
    "* *hop*,\n",
    "* *hip-hop*.\n",
    "\n",
    "Чтобы очистить от них таблицу, напишем функцию `replace_wrong_genres()` с двумя параметрами: \n",
    "* `wrong_genres` — список дубликатов,\n",
    "* `correct_genre` — строка с правильным значением.\n",
    "\n",
    "Функция должна исправить колонку `genre` в таблице `df`: заменить каждое значение из списка `wrong_genres` на значение из `correct_genre`."
   ]
  },
  {
   "cell_type": "code",
   "execution_count": 15,
   "metadata": {
    "id": "ErNDkmns_Zct"
   },
   "outputs": [],
   "source": [
    "# Функция для замены неявных дубликатов\n",
    "\n",
    "def replace_wrong_genres(wrong_genres, correct_genre):\n",
    "    \n",
    "    for wrong_genre in wrong_genres:\n",
    "        \n",
    "        df['genre'] = df['genre'].replace(wrong_genre, correct_genre)\n",
    "        \n",
    "wrong_genres = ['hip', 'hop', 'hip-hop']\n",
    "\n",
    "correct_genre = 'hiphop'        \n",
    "    "
   ]
  },
  {
   "cell_type": "code",
   "execution_count": 16,
   "metadata": {
    "id": "YN5i2hpmSo09"
   },
   "outputs": [],
   "source": [
    "# Применим функцию для устранения неявных дубликатов\n",
    "\n",
    "replace_wrong_genres(wrong_genres, correct_genre)"
   ]
  },
  {
   "cell_type": "markdown",
   "metadata": {
    "id": "zQKF16_RG15m"
   },
   "source": [
    "Проверьте, что заменили неправильные названия:\n",
    "\n",
    "*   hip\n",
    "*   hop\n",
    "*   hip-hop\n",
    "\n",
    "Выведем отсортированный список уникальных значений столбца `genre`:"
   ]
  },
  {
   "cell_type": "code",
   "execution_count": 17,
   "metadata": {
    "id": "wvixALnFG15m",
    "scrolled": true
   },
   "outputs": [
    {
     "data": {
      "text/plain": [
       "array(['acid', 'acoustic', 'action', 'adult', 'africa', 'afrikaans',\n",
       "       'alternative', 'alternativepunk', 'ambient', 'americana',\n",
       "       'animated', 'anime', 'arabesk', 'arabic', 'arena',\n",
       "       'argentinetango', 'art', 'audiobook', 'author', 'avantgarde',\n",
       "       'axé', 'baile', 'balkan', 'beats', 'bigroom', 'black', 'bluegrass',\n",
       "       'blues', 'bollywood', 'bossa', 'brazilian', 'breakbeat', 'breaks',\n",
       "       'broadway', 'cantautori', 'cantopop', 'canzone', 'caribbean',\n",
       "       'caucasian', 'celtic', 'chamber', 'chanson', 'children', 'chill',\n",
       "       'chinese', 'choral', 'christian', 'christmas', 'classical',\n",
       "       'classicmetal', 'club', 'colombian', 'comedy', 'conjazz',\n",
       "       'contemporary', 'country', 'cuban', 'dance', 'dancehall',\n",
       "       'dancepop', 'dark', 'death', 'deep', 'deutschrock', 'deutschspr',\n",
       "       'dirty', 'disco', 'dnb', 'documentary', 'downbeat', 'downtempo',\n",
       "       'drum', 'dub', 'dubstep', 'eastern', 'easy', 'electronic',\n",
       "       'electropop', 'emo', 'entehno', 'epicmetal', 'estrada', 'ethnic',\n",
       "       'eurofolk', 'european', 'experimental', 'extrememetal', 'fado',\n",
       "       'fairytail', 'film', 'fitness', 'flamenco', 'folk', 'folklore',\n",
       "       'folkmetal', 'folkrock', 'folktronica', 'forró', 'frankreich',\n",
       "       'französisch', 'french', 'funk', 'future', 'gangsta', 'garage',\n",
       "       'german', 'ghazal', 'gitarre', 'glitch', 'gospel', 'gothic',\n",
       "       'grime', 'grunge', 'gypsy', 'handsup', \"hard'n'heavy\", 'hardcore',\n",
       "       'hardstyle', 'hardtechno', 'hiphop', 'historisch', 'holiday',\n",
       "       'horror', 'house', 'hymn', 'idm', 'independent', 'indian', 'indie',\n",
       "       'indipop', 'industrial', 'inspirational', 'instrumental',\n",
       "       'international', 'irish', 'jam', 'japanese', 'jazz', 'jewish',\n",
       "       'jpop', 'jungle', 'k-pop', 'karadeniz', 'karaoke', 'kayokyoku',\n",
       "       'korean', 'laiko', 'latin', 'latino', 'leftfield', 'local',\n",
       "       'lounge', 'loungeelectronic', 'lovers', 'malaysian', 'mandopop',\n",
       "       'marschmusik', 'meditative', 'mediterranean', 'melodic', 'metal',\n",
       "       'metalcore', 'mexican', 'middle', 'minimal', 'miscellaneous',\n",
       "       'modern', 'mood', 'mpb', 'muslim', 'native', 'neoklassik', 'neue',\n",
       "       'new', 'newage', 'newwave', 'nu', 'nujazz', 'numetal', 'oceania',\n",
       "       'old', 'opera', 'orchestral', 'other', 'piano', 'podcasts', 'pop',\n",
       "       'popdance', 'popelectronic', 'popeurodance', 'poprussian', 'post',\n",
       "       'posthardcore', 'postrock', 'power', 'progmetal', 'progressive',\n",
       "       'psychedelic', 'punjabi', 'punk', 'quebecois', 'ragga', 'ram',\n",
       "       'rancheras', 'rap', 'rave', 'reggae', 'reggaeton', 'regional',\n",
       "       'relax', 'religious', 'retro', 'rhythm', 'rnb', 'rnr', 'rock',\n",
       "       'rockabilly', 'rockalternative', 'rockindie', 'rockother',\n",
       "       'romance', 'roots', 'ruspop', 'rusrap', 'rusrock', 'russian',\n",
       "       'salsa', 'samba', 'scenic', 'schlager', 'self', 'sertanejo',\n",
       "       'shanson', 'shoegazing', 'showtunes', 'singer', 'ska', 'skarock',\n",
       "       'slow', 'smooth', 'soft', 'soul', 'soulful', 'sound', 'soundtrack',\n",
       "       'southern', 'specialty', 'speech', 'spiritual', 'sport',\n",
       "       'stonerrock', 'surf', 'swing', 'synthpop', 'synthrock',\n",
       "       'sängerportrait', 'tango', 'tanzorchester', 'taraftar', 'tatar',\n",
       "       'tech', 'techno', 'teen', 'thrash', 'top', 'traditional',\n",
       "       'tradjazz', 'trance', 'tribal', 'trip', 'triphop', 'tropical',\n",
       "       'türk', 'türkçe', 'ukrrock', 'unknown', 'urban', 'uzbek',\n",
       "       'variété', 'vi', 'videogame', 'vocal', 'western', 'world',\n",
       "       'worldbeat', 'ïîï', 'электроника'], dtype=object)"
      ]
     },
     "execution_count": 17,
     "metadata": {},
     "output_type": "execute_result"
    }
   ],
   "source": [
    "# Проверка на неявные дубликаты\n",
    "df['genre'].sort_values().unique()\n"
   ]
  },
  {
   "cell_type": "markdown",
   "metadata": {},
   "source": [
    "Замена прошла успешно. Больше неявных дубликатов в данных нет."
   ]
  },
  {
   "cell_type": "markdown",
   "metadata": {
    "id": "jz6a9-7HQUDd"
   },
   "source": [
    "**Выводы**\n",
    "\n",
    "Предобработка обнаружила три проблемы в данных:\n",
    "\n",
    "- нарушения в стиле заголовков,\n",
    "- пропущенные значения,\n",
    "- дубликаты — явные и неявные.\n",
    "\n",
    "Мы исправили заголовки, чтобы упростить работу с таблицей.\n",
    "\n",
    "Пропущенные значения  заменили на `'unknown'`.\n",
    "\n",
    "Удалили явные дубликаты и заменили неявные.\n",
    "\n",
    "Теперь можно перейти к проверке гипотез. "
   ]
  },
  {
   "cell_type": "markdown",
   "metadata": {
    "id": "WttZHXH0SqKk"
   },
   "source": [
    "## Проверка гипотез"
   ]
  },
  {
   "cell_type": "markdown",
   "metadata": {
    "id": "Im936VVi_Zcu"
   },
   "source": [
    "### Сравнение поведения пользователей двух столиц"
   ]
  },
  {
   "cell_type": "markdown",
   "metadata": {
    "id": "nwt_MuaL_Zcu"
   },
   "source": [
    "Первая гипотеза утверждает, что пользователи по-разному слушают музыку в Москве и Санкт-Петербурге. Проверим это предположение по данным о трёх днях недели — понедельнике, среде и пятнице. Для этого:\n",
    "\n",
    "* Разделим пользователей Москвы и Санкт-Петербурга\n",
    "* Сравним, сколько треков послушала каждая группа пользователей в понедельник, среду и пятницу.\n"
   ]
  },
  {
   "cell_type": "code",
   "execution_count": 18,
   "metadata": {
    "id": "0_Qs96oh_Zcu"
   },
   "outputs": [
    {
     "data": {
      "text/plain": [
       "city\n",
       "Moscow              42741\n",
       "Saint-Petersburg    18512\n",
       "Name: track, dtype: int64"
      ]
     },
     "execution_count": 18,
     "metadata": {},
     "output_type": "execute_result"
    }
   ],
   "source": [
    "# Подсчёт прослушиваний в каждом городе\n",
    "\n",
    "df.groupby('city')['track'].count()"
   ]
  },
  {
   "cell_type": "markdown",
   "metadata": {
    "id": "dzli3w8o_Zcu"
   },
   "source": [
    "В Москве прослушиваний больше, чем в Петербурге. Из этого не следует, что московские пользователи чаще слушают музыку. Просто самих пользователей в Москве больше.\n",
    "\n",
    "Теперь сгруппируем данные по дню недели и подсчитаем прослушивания в понедельник, среду и пятницу. Учтем, что в данных есть информация только о прослушиваниях только за эти дни.\n"
   ]
  },
  {
   "cell_type": "code",
   "execution_count": 19,
   "metadata": {
    "id": "uZMKjiJz_Zcu"
   },
   "outputs": [
    {
     "data": {
      "text/plain": [
       "day\n",
       "Friday       21840\n",
       "Monday       21354\n",
       "Wednesday    18059\n",
       "Name: track, dtype: int64"
      ]
     },
     "execution_count": 19,
     "metadata": {},
     "output_type": "execute_result"
    }
   ],
   "source": [
    "# Подсчёт прослушиваний в каждый из трёх дней\n",
    "\n",
    "df.groupby('day')['track'].count()"
   ]
  },
  {
   "cell_type": "markdown",
   "metadata": {
    "id": "cC2tNrlL_Zcu"
   },
   "source": [
    "В среднем пользователи из двух городов менее активны по средам. Но картина может измениться, если рассмотреть каждый город в отдельности."
   ]
  },
  {
   "cell_type": "markdown",
   "metadata": {
    "id": "POzs8bGa_Zcu"
   },
   "source": [
    "Создадим функцию `number_tracks()`, которая посчитает прослушивания для заданного дня и города. Ей понадобятся два параметра:\n",
    "* день недели,\n",
    "* название города.\n",
    "\n",
    "В функции сохраним в переменную строки исходной таблицы, у которых значение:\n",
    "  * в колонке `day` равно параметру `day`,\n",
    "  * в колонке `city` равно параметру `city`.\n",
    "\n",
    "Для этого применим последовательную фильтрацию с логической индексацией.\n",
    "\n",
    "Затем посчитаем значения в столбце `user_id` получившейся таблицы. Результат сохраним в новую переменную. Вернем эту переменную из функции."
   ]
  },
  {
   "cell_type": "code",
   "execution_count": 20,
   "metadata": {
    "id": "Nz3GdQB1_Zcu"
   },
   "outputs": [],
   "source": [
    "# создание функции number_tracks()\n",
    "# Объявляется функция с двумя параметрами: day, city.\n",
    "\n",
    "\n",
    "def number_tracks(day, city):\n",
    "    \n",
    "    track_list = df[(df['day'] == day) & (df['city'] == city)]\n",
    "    \n",
    "    track_list_count = track_list['user_id'].count()\n",
    "    \n",
    "    return track_list_count"
   ]
  },
  {
   "cell_type": "markdown",
   "metadata": {
    "id": "ytf7xFrFJQ2r"
   },
   "source": [
    "Вызовем `number_tracks()` шесть раз, меняя значение параметров — так, чтобы получить данные для каждого города в каждый из трёх дней."
   ]
  },
  {
   "cell_type": "code",
   "execution_count": 21,
   "metadata": {
    "id": "rJcRATNQ_Zcu"
   },
   "outputs": [
    {
     "data": {
      "text/plain": [
       "15740"
      ]
     },
     "execution_count": 21,
     "metadata": {},
     "output_type": "execute_result"
    }
   ],
   "source": [
    "# количество прослушиваний в Москве по понедельникам\n",
    "\n",
    "number_tracks('Monday', 'Moscow')"
   ]
  },
  {
   "cell_type": "code",
   "execution_count": 22,
   "metadata": {
    "id": "hq_ncZ5T_Zcu"
   },
   "outputs": [
    {
     "data": {
      "text/plain": [
       "5614"
      ]
     },
     "execution_count": 22,
     "metadata": {},
     "output_type": "execute_result"
    }
   ],
   "source": [
    "# количество прослушиваний в Санкт-Петербурге по понедельникам\n",
    "\n",
    "\n",
    "number_tracks('Monday', 'Saint-Petersburg')"
   ]
  },
  {
   "cell_type": "code",
   "execution_count": 23,
   "metadata": {
    "id": "_NTy2VPU_Zcu"
   },
   "outputs": [
    {
     "data": {
      "text/plain": [
       "11056"
      ]
     },
     "execution_count": 23,
     "metadata": {},
     "output_type": "execute_result"
    }
   ],
   "source": [
    "# количество прослушиваний в Москве по средам\n",
    "\n",
    "number_tracks('Wednesday', 'Moscow')"
   ]
  },
  {
   "cell_type": "code",
   "execution_count": 24,
   "metadata": {
    "id": "j2y3TAwo_Zcu"
   },
   "outputs": [
    {
     "data": {
      "text/plain": [
       "7003"
      ]
     },
     "execution_count": 24,
     "metadata": {},
     "output_type": "execute_result"
    }
   ],
   "source": [
    "# количество прослушиваний в Санкт-Петербурге по средам\n",
    "\n",
    "number_tracks('Wednesday', 'Saint-Petersburg')"
   ]
  },
  {
   "cell_type": "code",
   "execution_count": 25,
   "metadata": {
    "id": "vYDw5u_K_Zcu"
   },
   "outputs": [
    {
     "data": {
      "text/plain": [
       "15945"
      ]
     },
     "execution_count": 25,
     "metadata": {},
     "output_type": "execute_result"
    }
   ],
   "source": [
    "# количество прослушиваний в Москве по пятницам\n",
    "\n",
    "number_tracks('Friday', 'Moscow')"
   ]
  },
  {
   "cell_type": "code",
   "execution_count": 26,
   "metadata": {
    "id": "8_yzFtW3_Zcu"
   },
   "outputs": [
    {
     "data": {
      "text/plain": [
       "5895"
      ]
     },
     "execution_count": 26,
     "metadata": {},
     "output_type": "execute_result"
    }
   ],
   "source": [
    "# количество прослушиваний в Санкт-Петербурге по пятницам\n",
    "\n",
    "number_tracks('Friday', 'Saint-Petersburg')"
   ]
  },
  {
   "cell_type": "markdown",
   "metadata": {
    "id": "7QXffbO-_Zcu"
   },
   "source": [
    "Создадим c помощью конструктора `pd.DataFrame` таблицу, где\n",
    "\n",
    "* названия колонок — `['city', 'monday', 'wednesday', 'friday']`;\n",
    "\n",
    "* данные — результаты, которые вы получили с помощью `number_tracks`."
   ]
  },
  {
   "cell_type": "code",
   "execution_count": 27,
   "metadata": {
    "id": "APAcLpOr_Zcu"
   },
   "outputs": [
    {
     "data": {
      "text/html": [
       "<div>\n",
       "<style scoped>\n",
       "    .dataframe tbody tr th:only-of-type {\n",
       "        vertical-align: middle;\n",
       "    }\n",
       "\n",
       "    .dataframe tbody tr th {\n",
       "        vertical-align: top;\n",
       "    }\n",
       "\n",
       "    .dataframe thead th {\n",
       "        text-align: right;\n",
       "    }\n",
       "</style>\n",
       "<table border=\"1\" class=\"dataframe\">\n",
       "  <thead>\n",
       "    <tr style=\"text-align: right;\">\n",
       "      <th></th>\n",
       "      <th>city</th>\n",
       "      <th>monday</th>\n",
       "      <th>wednesday</th>\n",
       "      <th>friday</th>\n",
       "    </tr>\n",
       "  </thead>\n",
       "  <tbody>\n",
       "    <tr>\n",
       "      <td>0</td>\n",
       "      <td>Moscow</td>\n",
       "      <td>15740</td>\n",
       "      <td>11056</td>\n",
       "      <td>15945</td>\n",
       "    </tr>\n",
       "    <tr>\n",
       "      <td>1</td>\n",
       "      <td>Saint-Petersburg</td>\n",
       "      <td>5614</td>\n",
       "      <td>7003</td>\n",
       "      <td>5895</td>\n",
       "    </tr>\n",
       "  </tbody>\n",
       "</table>\n",
       "</div>"
      ],
      "text/plain": [
       "               city  monday  wednesday  friday\n",
       "0            Moscow   15740      11056   15945\n",
       "1  Saint-Petersburg    5614       7003    5895"
      ]
     },
     "execution_count": 27,
     "metadata": {},
     "output_type": "execute_result"
    }
   ],
   "source": [
    "# Таблица с результатами\n",
    "\n",
    "columns = ['city', 'monday', 'wednesday', 'friday']\n",
    "\n",
    "number_tracks =[\n",
    "    ['Moscow', 15740, 11056, 15945], \n",
    "    ['Saint-Petersburg', 5614, 7003, 5895]\n",
    "    ]\n",
    "\n",
    "table = pd.DataFrame(data = number_tracks, columns = columns)\n",
    "\n",
    "table"
   ]
  },
  {
   "cell_type": "markdown",
   "metadata": {
    "id": "-EgPIHYu_Zcu"
   },
   "source": [
    "**Выводы**\n",
    "\n",
    "Данные показывают разницу поведения пользователей:\n",
    "\n",
    "- В Москве пик прослушиваний приходится на понедельник и пятницу, а в среду заметен спад.\n",
    "- В Петербурге, наоборот, больше слушают музыку по средам. Активность в понедельник и пятницу здесь почти в равной мере уступает среде.\n",
    "\n",
    "Значит, данные говорят в пользу первой гипотезы."
   ]
  },
  {
   "cell_type": "markdown",
   "metadata": {
    "id": "atZAxtq4_Zcu"
   },
   "source": [
    "### Музыка в начале и в конце недели"
   ]
  },
  {
   "cell_type": "markdown",
   "metadata": {
    "id": "eXrQqXFH_Zcu"
   },
   "source": [
    "Согласно второй гипотезе, утром в понедельник в Москве преобладают одни жанры, а в Петербурге — другие. Так же и вечером пятницы преобладают разные жанры — в зависимости от города."
   ]
  },
  {
   "cell_type": "markdown",
   "metadata": {
    "id": "S8UcW6Hw_Zcu"
   },
   "source": [
    "Сохраним таблицы с данными в две переменные:\n",
    "* по Москве — в `moscow_general`;\n",
    "* по Санкт-Петербургу — в `spb_general`."
   ]
  },
  {
   "cell_type": "code",
   "execution_count": 28,
   "metadata": {
    "id": "qeaFfM_P_Zcu"
   },
   "outputs": [],
   "source": [
    "# получение таблицы moscow_general из тех строк таблицы df, \n",
    "# для которых значение в столбце 'city' равно 'Moscow'\n",
    "\n",
    "moscow_general = df[(df['city'] == 'Moscow')]"
   ]
  },
  {
   "cell_type": "code",
   "execution_count": 29,
   "metadata": {
    "id": "ORaVRKto_Zcu"
   },
   "outputs": [],
   "source": [
    "# получение таблицы spb_general из тех строк таблицы df,\n",
    "# для которых значение в столбце 'city' равно 'Saint-Petersburg'\n",
    "\n",
    "spb_general = df[(df['city'] == 'Saint-Petersburg')]"
   ]
  },
  {
   "cell_type": "markdown",
   "metadata": {
    "id": "MEJV-CX2_Zcu"
   },
   "source": [
    "Создадим функцию `genre_weekday()` с четырьмя параметрами:\n",
    "* таблица (датафрейм) с данными,\n",
    "* день недели,\n",
    "* начальная временная метка в формате 'hh:mm', \n",
    "* последняя временная метка в формате 'hh:mm'.\n",
    "\n",
    "Функция должна вернуть информацию о топ-10 жанров тех треков, которые прослушивали в указанный день, в промежутке между двумя отметками времени."
   ]
  },
  {
   "cell_type": "code",
   "execution_count": 30,
   "metadata": {
    "id": "laJT9BYl_Zcu"
   },
   "outputs": [],
   "source": [
    "# Объявление функции genre_weekday() с параметрами table, day, time1, time2,\n",
    "\n",
    "def genre_weekday(table, day, time1, time2):\n",
    "    \n",
    "    genre_df = table[(table['day'] == day) & (table['time'] > time1) & (table['time'] < time2)]\n",
    "    \n",
    "    genre_df_count = genre_df.groupby('genre')['genre'].count()\n",
    "    \n",
    "    genre_df_sorted = genre_df_count.sort_values(ascending=False)\n",
    "    \n",
    "    return genre_df_sorted.head(10)\n"
   ]
  },
  {
   "cell_type": "markdown",
   "metadata": {
    "id": "la2s2_PF_Zcu"
   },
   "source": [
    "Cравним результаты функции `genre_weekday()` для Москвы и Санкт-Петербурга в понедельник утром (с 7:00 до 11:00) и в пятницу вечером (с 17:00 до 23:00):"
   ]
  },
  {
   "cell_type": "code",
   "execution_count": 31,
   "metadata": {
    "id": "yz7itPUQ_Zcu"
   },
   "outputs": [
    {
     "data": {
      "text/plain": [
       "genre\n",
       "pop            781\n",
       "dance          549\n",
       "electronic     480\n",
       "rock           474\n",
       "hiphop         286\n",
       "ruspop         186\n",
       "world          181\n",
       "rusrap         175\n",
       "alternative    164\n",
       "unknown        161\n",
       "Name: genre, dtype: int64"
      ]
     },
     "execution_count": 31,
     "metadata": {},
     "output_type": "execute_result"
    }
   ],
   "source": [
    "# вызов функции для утра понедельника в Москве (вместо df — таблица moscow_general)\n",
    "\n",
    "# объекты, хранящие время, являются строками и сравниваются как строки\n",
    "\n",
    "genre_weekday(moscow_general, 'Monday', '07:00', '11:00')"
   ]
  },
  {
   "cell_type": "code",
   "execution_count": 32,
   "metadata": {
    "id": "kwUcHPdy_Zcu"
   },
   "outputs": [
    {
     "data": {
      "text/plain": [
       "genre\n",
       "pop            218\n",
       "dance          182\n",
       "rock           162\n",
       "electronic     147\n",
       "hiphop          80\n",
       "ruspop          64\n",
       "alternative     58\n",
       "rusrap          55\n",
       "jazz            44\n",
       "classical       40\n",
       "Name: genre, dtype: int64"
      ]
     },
     "execution_count": 32,
     "metadata": {},
     "output_type": "execute_result"
    }
   ],
   "source": [
    "# вызов функции для утра понедельника в Петербурге (вместо df — таблица spb_general)\n",
    "\n",
    "genre_weekday(spb_general, 'Monday', '07:00', '11:00')"
   ]
  },
  {
   "cell_type": "code",
   "execution_count": 33,
   "metadata": {
    "id": "EzXVRE1o_Zcu"
   },
   "outputs": [
    {
     "data": {
      "text/plain": [
       "genre\n",
       "pop            713\n",
       "rock           517\n",
       "dance          495\n",
       "electronic     482\n",
       "hiphop         273\n",
       "world          208\n",
       "ruspop         170\n",
       "alternative    163\n",
       "classical      163\n",
       "rusrap         142\n",
       "Name: genre, dtype: int64"
      ]
     },
     "execution_count": 33,
     "metadata": {},
     "output_type": "execute_result"
    }
   ],
   "source": [
    "# вызов функции для вечера пятницы в Москве\n",
    "\n",
    "genre_weekday(moscow_general, 'Friday', '17:00', '23:00')"
   ]
  },
  {
   "cell_type": "code",
   "execution_count": 34,
   "metadata": {
    "id": "JZaEKu5v_Zcu"
   },
   "outputs": [
    {
     "data": {
      "text/plain": [
       "genre\n",
       "pop            256\n",
       "rock           216\n",
       "electronic     216\n",
       "dance          210\n",
       "hiphop          97\n",
       "alternative     63\n",
       "jazz            61\n",
       "classical       60\n",
       "rusrap          59\n",
       "world           54\n",
       "Name: genre, dtype: int64"
      ]
     },
     "execution_count": 34,
     "metadata": {},
     "output_type": "execute_result"
    }
   ],
   "source": [
    "# вызов функции для вечера пятницы в Петербурге\n",
    "\n",
    "genre_weekday(spb_general, 'Friday', '17:00', '23:00')"
   ]
  },
  {
   "cell_type": "markdown",
   "metadata": {
    "id": "wrCe4MNX_Zcu"
   },
   "source": [
    "**Выводы**\n",
    "\n",
    "Если сравнить топ-10 жанров в понедельник утром, можно сделать такие выводы:\n",
    "\n",
    "1. В Москве и Петербурге слушают похожую музыку. Единственное отличие — в московский рейтинг вошёл жанр “world”, а в петербургский — джаз и классика.\n",
    "\n",
    "2. В Москве пропущенных значений оказалось так много, что значение `'unknown'` заняло десятое место среди самых популярных жанров. Значит, пропущенные значения занимают существенную долю в данных и угрожают достоверности исследования.\n",
    "\n",
    "Вечер пятницы не меняет эту картину. Некоторые жанры поднимаются немного выше, другие спускаются, но в целом топ-10 остаётся тем же самым.\n",
    "\n",
    "Таким образом, вторая гипотеза подтвердилась лишь частично:\n",
    "* Пользователи слушают похожую музыку в начале недели и в конце.\n",
    "* Разница между Москвой и Петербургом не слишком выражена. В Москве чаще слушают русскую популярную музыку, в Петербурге — джаз.\n",
    "\n",
    "Однако пропуски в данных ставят под сомнение этот результат. В Москве их так много, что рейтинг топ-10 мог бы выглядеть иначе, если бы не утерянные  данные о жанрах."
   ]
  },
  {
   "cell_type": "markdown",
   "metadata": {
    "id": "JolODAqr_Zcu"
   },
   "source": [
    "### Жанровые предпочтения в Москве и Петербурге\n",
    "\n",
    "Гипотеза: Петербург — столица рэпа, музыку этого жанра там слушают чаще, чем в Москве.  А Москва — город контрастов, в котором, тем не менее, преобладает поп-музыка."
   ]
  },
  {
   "cell_type": "markdown",
   "metadata": {
    "id": "DlegSvaT_Zcu"
   },
   "source": [
    "Сгруппируем таблицу `moscow_general` по жанру и посчитаем прослушивания треков каждого жанра методом `count()`. Затем отсортируем результат в порядке убывания и сохраним его в таблице `moscow_genres`."
   ]
  },
  {
   "cell_type": "code",
   "execution_count": 35,
   "metadata": {
    "id": "r19lIPke_Zcu"
   },
   "outputs": [],
   "source": [
    "# подготовим таблицу\n",
    "\n",
    "moscow_genres = moscow_general.groupby('genre')['genre'].count().sort_values(ascending=False)"
   ]
  },
  {
   "cell_type": "markdown",
   "metadata": {
    "id": "6kMuomxTiIr8"
   },
   "source": [
    "Выведем на экран первые десять строк `moscow_genres`:"
   ]
  },
  {
   "cell_type": "code",
   "execution_count": 36,
   "metadata": {
    "id": "WhCSooF8_Zcv"
   },
   "outputs": [
    {
     "data": {
      "text/plain": [
       "genre\n",
       "pop            5892\n",
       "dance          4435\n",
       "rock           3965\n",
       "electronic     3786\n",
       "hiphop         2096\n",
       "classical      1616\n",
       "world          1432\n",
       "alternative    1379\n",
       "ruspop         1372\n",
       "rusrap         1161\n",
       "Name: genre, dtype: int64"
      ]
     },
     "execution_count": 36,
     "metadata": {},
     "output_type": "execute_result"
    }
   ],
   "source": [
    "# просмотр первых 10 строк moscow_genres\n",
    "\n",
    "moscow_genres.head(10)"
   ]
  },
  {
   "cell_type": "markdown",
   "metadata": {
    "id": "cnPG2vnN_Zcv"
   },
   "source": [
    "Теперь повторим то же и для Петербурга.\n",
    "\n",
    "Сгруппируем таблицу `spb_general` по жанру. Посчитаем прослушивания треков каждого жанра. Результат отсортируем в порядке убывания и сохраним в таблице `spb_genres`:\n"
   ]
  },
  {
   "cell_type": "code",
   "execution_count": 37,
   "metadata": {
    "id": "gluLIpE7_Zcv"
   },
   "outputs": [],
   "source": [
    "# подготовим таблицу\n",
    "\n",
    "spb_genres = spb_general.groupby('genre')['genre'].count().sort_values(ascending=False)"
   ]
  },
  {
   "cell_type": "markdown",
   "metadata": {
    "id": "5Doha_ODgyQ8"
   },
   "source": [
    "Выведем на экран первые десять строк `spb_genres`:"
   ]
  },
  {
   "cell_type": "code",
   "execution_count": 38,
   "metadata": {
    "id": "uaGJHjVU_Zcv"
   },
   "outputs": [
    {
     "data": {
      "text/plain": [
       "genre\n",
       "pop            2431\n",
       "dance          1932\n",
       "rock           1879\n",
       "electronic     1736\n",
       "hiphop          960\n",
       "alternative     649\n",
       "classical       646\n",
       "rusrap          564\n",
       "ruspop          538\n",
       "world           515\n",
       "Name: genre, dtype: int64"
      ]
     },
     "execution_count": 38,
     "metadata": {},
     "output_type": "execute_result"
    }
   ],
   "source": [
    "# просмотр первых 10 строк spb_genres\n",
    "\n",
    "spb_genres.head(10)"
   ]
  },
  {
   "cell_type": "markdown",
   "metadata": {
    "id": "RY51YJYu_Zcv"
   },
   "source": [
    "**Выводы**"
   ]
  },
  {
   "cell_type": "markdown",
   "metadata": {
    "id": "nVhnJEm__Zcv"
   },
   "source": [
    "Гипотеза частично подтвердилась:\n",
    "* Поп-музыка — самый популярный жанр в Москве, как и предполагала гипотеза. Более того, в топ-10 жанров встречается близкий жанр — русская популярная музыка.\n",
    "* Вопреки ожиданиям, рэп одинаково популярен в Москве и Петербурге. \n"
   ]
  },
  {
   "cell_type": "markdown",
   "metadata": {
    "id": "ykKQ0N65_Zcv"
   },
   "source": [
    "## Итоги исследования"
   ]
  },
  {
   "cell_type": "markdown",
   "metadata": {
    "id": "tjUwbHb3_Zcv"
   },
   "source": [
    "Мы проверили три гипотезы и установили:\n",
    "\n",
    "1. День недели по-разному влияет на активность пользователей в Москве и Петербурге. \n",
    "\n",
    "Первая гипотеза полностью подтвердилась.\n",
    "\n",
    "2. Музыкальные предпочтения не сильно меняются в течение недели — будь то Москва или Петербург. Небольшие различия заметны в начале недели, по понедельникам:\n",
    "* в Москве слушают музыку жанра “world”,\n",
    "* в Петербурге — джаз и классику.\n",
    "\n",
    "Таким образом, вторая гипотеза подтвердилась лишь отчасти. Этот результат мог оказаться иным, если бы не пропуски в данных.\n",
    "\n",
    "3. Во вкусах пользователей Москвы и Петербурга больше общего, чем различий. Вопреки ожиданиям, предпочтения жанров в Петербурге напоминают московские.\n",
    "\n",
    "Третья гипотеза не подтвердилась. Если различия в предпочтениях и существуют, на основной массе пользователей они незаметны.\n"
   ]
  }
 ],
 "metadata": {
  "ExecuteTimeLog": [
   {
    "duration": 298,
    "start_time": "2021-12-12T14:18:19.039Z"
   },
   {
    "duration": 557,
    "start_time": "2021-12-12T14:18:46.197Z"
   },
   {
    "duration": 3,
    "start_time": "2021-12-12T14:18:49.759Z"
   },
   {
    "duration": 2007,
    "start_time": "2021-12-12T14:20:02.224Z"
   },
   {
    "duration": 120,
    "start_time": "2021-12-12T14:22:18.735Z"
   },
   {
    "duration": 16,
    "start_time": "2021-12-12T14:22:33.911Z"
   },
   {
    "duration": 8,
    "start_time": "2021-12-12T14:22:58.231Z"
   },
   {
    "duration": 34,
    "start_time": "2021-12-12T14:30:04.549Z"
   },
   {
    "duration": 2,
    "start_time": "2021-12-12T14:31:09.461Z"
   },
   {
    "duration": 117,
    "start_time": "2021-12-12T14:31:22.679Z"
   },
   {
    "duration": 10,
    "start_time": "2021-12-12T14:31:32.869Z"
   },
   {
    "duration": 23,
    "start_time": "2021-12-12T14:31:50.519Z"
   },
   {
    "duration": 4,
    "start_time": "2021-12-13T12:57:42.224Z"
   },
   {
    "duration": 334,
    "start_time": "2021-12-13T12:58:16.746Z"
   },
   {
    "duration": 381,
    "start_time": "2021-12-13T12:58:28.464Z"
   },
   {
    "duration": 285,
    "start_time": "2021-12-13T12:58:51.623Z"
   },
   {
    "duration": 268,
    "start_time": "2021-12-13T12:59:12.005Z"
   },
   {
    "duration": 311,
    "start_time": "2021-12-13T13:00:19.813Z"
   },
   {
    "duration": 753,
    "start_time": "2021-12-13T13:00:44.793Z"
   },
   {
    "duration": 166,
    "start_time": "2021-12-13T13:00:45.549Z"
   },
   {
    "duration": 27,
    "start_time": "2021-12-13T13:00:45.718Z"
   },
   {
    "duration": 31,
    "start_time": "2021-12-13T13:00:45.747Z"
   },
   {
    "duration": 3,
    "start_time": "2021-12-13T13:00:54.224Z"
   },
   {
    "duration": 174,
    "start_time": "2021-12-13T13:00:54.229Z"
   },
   {
    "duration": 19,
    "start_time": "2021-12-13T13:00:54.406Z"
   },
   {
    "duration": 42,
    "start_time": "2021-12-13T13:00:54.428Z"
   },
   {
    "duration": 5,
    "start_time": "2021-12-13T13:01:07.824Z"
   },
   {
    "duration": 1235,
    "start_time": "2021-12-13T13:07:37.954Z"
   },
   {
    "duration": 24,
    "start_time": "2021-12-13T13:13:59.974Z"
   },
   {
    "duration": 6,
    "start_time": "2021-12-13T13:14:14.253Z"
   },
   {
    "duration": 33,
    "start_time": "2021-12-13T13:14:52.643Z"
   },
   {
    "duration": 28,
    "start_time": "2021-12-13T13:15:16.964Z"
   },
   {
    "duration": 311,
    "start_time": "2021-12-13T13:17:51.204Z"
   },
   {
    "duration": 277,
    "start_time": "2021-12-13T13:18:17.053Z"
   },
   {
    "duration": 30,
    "start_time": "2021-12-13T13:18:33.223Z"
   },
   {
    "duration": 32,
    "start_time": "2021-12-13T13:18:49.794Z"
   },
   {
    "duration": 21,
    "start_time": "2021-12-13T13:19:44.063Z"
   },
   {
    "duration": 27,
    "start_time": "2021-12-13T13:19:47.394Z"
   },
   {
    "duration": 287,
    "start_time": "2021-12-13T13:21:04.818Z"
   },
   {
    "duration": 79,
    "start_time": "2021-12-13T13:21:15.911Z"
   },
   {
    "duration": 99,
    "start_time": "2021-12-13T13:22:40.499Z"
   },
   {
    "duration": 76,
    "start_time": "2021-12-13T13:23:17.609Z"
   },
   {
    "duration": 81,
    "start_time": "2021-12-13T13:23:44.196Z"
   },
   {
    "duration": 4,
    "start_time": "2021-12-13T13:23:49.850Z"
   },
   {
    "duration": 196,
    "start_time": "2021-12-13T13:23:49.857Z"
   },
   {
    "duration": 21,
    "start_time": "2021-12-13T13:23:50.056Z"
   },
   {
    "duration": 50,
    "start_time": "2021-12-13T13:23:50.085Z"
   },
   {
    "duration": 34,
    "start_time": "2021-12-13T13:23:50.138Z"
   },
   {
    "duration": 45,
    "start_time": "2021-12-13T13:23:50.175Z"
   },
   {
    "duration": 5,
    "start_time": "2021-12-13T13:23:50.222Z"
   },
   {
    "duration": 67,
    "start_time": "2021-12-13T13:23:50.230Z"
   },
   {
    "duration": 30,
    "start_time": "2021-12-13T13:23:50.301Z"
   },
   {
    "duration": 44,
    "start_time": "2021-12-13T13:23:50.333Z"
   },
   {
    "duration": 100,
    "start_time": "2021-12-13T13:23:50.380Z"
   },
   {
    "duration": 111,
    "start_time": "2021-12-13T13:23:50.483Z"
   },
   {
    "duration": 87,
    "start_time": "2021-12-13T13:23:50.596Z"
   },
   {
    "duration": 88,
    "start_time": "2021-12-13T13:24:10.048Z"
   },
   {
    "duration": 73,
    "start_time": "2021-12-13T13:24:13.408Z"
   },
   {
    "duration": 7823,
    "start_time": "2021-12-13T13:25:26.708Z"
   },
   {
    "duration": 104399,
    "start_time": "2021-12-13T13:24:14.027Z"
   },
   {
    "duration": 7741,
    "start_time": "2021-12-13T13:26:33.969Z"
   },
   {
    "duration": 10,
    "start_time": "2021-12-13T13:26:52.478Z"
   },
   {
    "duration": 2217,
    "start_time": "2021-12-13T13:33:45.415Z"
   },
   {
    "duration": 783,
    "start_time": "2021-12-13T13:34:13.094Z"
   },
   {
    "duration": 92,
    "start_time": "2021-12-13T13:35:35.438Z"
   },
   {
    "duration": 115,
    "start_time": "2021-12-13T13:36:04.417Z"
   },
   {
    "duration": 114,
    "start_time": "2021-12-13T13:36:32.935Z"
   },
   {
    "duration": 90,
    "start_time": "2021-12-13T13:37:25.189Z"
   },
   {
    "duration": 91,
    "start_time": "2021-12-13T13:37:58.931Z"
   },
   {
    "duration": 5,
    "start_time": "2021-12-13T13:38:05.717Z"
   },
   {
    "duration": 13,
    "start_time": "2021-12-13T13:38:29.650Z"
   },
   {
    "duration": 13,
    "start_time": "2021-12-13T13:38:41.299Z"
   },
   {
    "duration": 267,
    "start_time": "2021-12-13T13:41:36.936Z"
   },
   {
    "duration": 286,
    "start_time": "2021-12-13T13:41:54.148Z"
   },
   {
    "duration": 70,
    "start_time": "2021-12-13T13:42:32.508Z"
   },
   {
    "duration": 847,
    "start_time": "2021-12-13T13:44:40.288Z"
   },
   {
    "duration": 55,
    "start_time": "2021-12-13T13:44:58.971Z"
   },
   {
    "duration": 10,
    "start_time": "2021-12-13T13:51:12.784Z"
   },
   {
    "duration": 308,
    "start_time": "2021-12-13T13:51:37.244Z"
   },
   {
    "duration": 299,
    "start_time": "2021-12-13T13:53:04.992Z"
   },
   {
    "duration": 8,
    "start_time": "2021-12-13T13:53:34.454Z"
   },
   {
    "duration": 6,
    "start_time": "2021-12-13T13:53:47.476Z"
   },
   {
    "duration": 8,
    "start_time": "2021-12-13T13:54:21.674Z"
   },
   {
    "duration": 9,
    "start_time": "2021-12-13T13:54:38.415Z"
   },
   {
    "duration": 6,
    "start_time": "2021-12-13T13:54:48.175Z"
   },
   {
    "duration": 4,
    "start_time": "2021-12-13T13:54:51.565Z"
   },
   {
    "duration": 223,
    "start_time": "2021-12-13T13:54:51.572Z"
   },
   {
    "duration": 58,
    "start_time": "2021-12-13T13:54:51.805Z"
   },
   {
    "duration": 41,
    "start_time": "2021-12-13T13:54:51.871Z"
   },
   {
    "duration": 5,
    "start_time": "2021-12-13T13:54:51.915Z"
   },
   {
    "duration": 27,
    "start_time": "2021-12-13T13:54:51.922Z"
   },
   {
    "duration": 4,
    "start_time": "2021-12-13T13:54:51.952Z"
   },
   {
    "duration": 36,
    "start_time": "2021-12-13T13:54:51.958Z"
   },
   {
    "duration": 38,
    "start_time": "2021-12-13T13:54:51.998Z"
   },
   {
    "duration": 28,
    "start_time": "2021-12-13T13:54:52.039Z"
   },
   {
    "duration": 96,
    "start_time": "2021-12-13T13:54:52.069Z"
   },
   {
    "duration": 96,
    "start_time": "2021-12-13T13:54:52.167Z"
   },
   {
    "duration": 78,
    "start_time": "2021-12-13T13:54:52.266Z"
   },
   {
    "duration": 10,
    "start_time": "2021-12-13T13:54:52.347Z"
   },
   {
    "duration": 5,
    "start_time": "2021-12-13T13:54:52.359Z"
   },
   {
    "duration": 16,
    "start_time": "2021-12-13T13:54:52.367Z"
   },
   {
    "duration": 41,
    "start_time": "2021-12-13T13:54:52.386Z"
   },
   {
    "duration": 9,
    "start_time": "2021-12-13T13:55:28.987Z"
   },
   {
    "duration": 287,
    "start_time": "2021-12-13T13:55:54.312Z"
   },
   {
    "duration": 269,
    "start_time": "2021-12-13T13:57:49.514Z"
   },
   {
    "duration": 8,
    "start_time": "2021-12-13T13:58:25.704Z"
   },
   {
    "duration": 8,
    "start_time": "2021-12-13T13:58:34.504Z"
   },
   {
    "duration": 9,
    "start_time": "2021-12-13T13:58:55.515Z"
   },
   {
    "duration": 331,
    "start_time": "2021-12-13T13:59:27.945Z"
   },
   {
    "duration": 326,
    "start_time": "2021-12-13T13:59:37.535Z"
   },
   {
    "duration": 9,
    "start_time": "2021-12-13T13:59:49.644Z"
   },
   {
    "duration": 5,
    "start_time": "2021-12-13T14:00:47.394Z"
   },
   {
    "duration": 10,
    "start_time": "2021-12-13T14:00:53.194Z"
   },
   {
    "duration": 4,
    "start_time": "2021-12-13T14:01:17.409Z"
   },
   {
    "duration": 174,
    "start_time": "2021-12-13T14:01:17.417Z"
   },
   {
    "duration": 15,
    "start_time": "2021-12-13T14:01:17.594Z"
   },
   {
    "duration": 33,
    "start_time": "2021-12-13T14:01:17.623Z"
   },
   {
    "duration": 5,
    "start_time": "2021-12-13T14:01:17.659Z"
   },
   {
    "duration": 26,
    "start_time": "2021-12-13T14:01:17.666Z"
   },
   {
    "duration": 30,
    "start_time": "2021-12-13T14:01:17.695Z"
   },
   {
    "duration": 31,
    "start_time": "2021-12-13T14:01:17.728Z"
   },
   {
    "duration": 22,
    "start_time": "2021-12-13T14:01:17.762Z"
   },
   {
    "duration": 60,
    "start_time": "2021-12-13T14:01:17.786Z"
   },
   {
    "duration": 91,
    "start_time": "2021-12-13T14:01:17.849Z"
   },
   {
    "duration": 100,
    "start_time": "2021-12-13T14:01:17.942Z"
   },
   {
    "duration": 81,
    "start_time": "2021-12-13T14:01:18.044Z"
   },
   {
    "duration": 10,
    "start_time": "2021-12-13T14:01:18.127Z"
   },
   {
    "duration": 7,
    "start_time": "2021-12-13T14:01:18.139Z"
   },
   {
    "duration": 28,
    "start_time": "2021-12-13T14:01:18.148Z"
   },
   {
    "duration": 281,
    "start_time": "2021-12-13T14:01:57.388Z"
   },
   {
    "duration": 4,
    "start_time": "2021-12-13T14:02:02.704Z"
   },
   {
    "duration": 4,
    "start_time": "2021-12-13T14:02:14.704Z"
   },
   {
    "duration": 180,
    "start_time": "2021-12-13T14:02:14.710Z"
   },
   {
    "duration": 15,
    "start_time": "2021-12-13T14:02:14.893Z"
   },
   {
    "duration": 48,
    "start_time": "2021-12-13T14:02:14.911Z"
   },
   {
    "duration": 8,
    "start_time": "2021-12-13T14:02:14.962Z"
   },
   {
    "duration": 20,
    "start_time": "2021-12-13T14:02:14.973Z"
   },
   {
    "duration": 6,
    "start_time": "2021-12-13T14:02:14.995Z"
   },
   {
    "duration": 42,
    "start_time": "2021-12-13T14:02:15.003Z"
   },
   {
    "duration": 22,
    "start_time": "2021-12-13T14:02:15.049Z"
   },
   {
    "duration": 60,
    "start_time": "2021-12-13T14:02:15.074Z"
   },
   {
    "duration": 95,
    "start_time": "2021-12-13T14:02:15.137Z"
   },
   {
    "duration": 102,
    "start_time": "2021-12-13T14:02:15.235Z"
   },
   {
    "duration": 72,
    "start_time": "2021-12-13T14:02:15.339Z"
   },
   {
    "duration": 9,
    "start_time": "2021-12-13T14:02:15.424Z"
   },
   {
    "duration": 4,
    "start_time": "2021-12-13T14:02:15.436Z"
   },
   {
    "duration": 351,
    "start_time": "2021-12-13T14:16:10.655Z"
   },
   {
    "duration": 344,
    "start_time": "2021-12-13T14:16:21.275Z"
   },
   {
    "duration": 12,
    "start_time": "2021-12-13T14:16:28.809Z"
   },
   {
    "duration": 9,
    "start_time": "2021-12-13T14:16:45.389Z"
   },
   {
    "duration": 4,
    "start_time": "2021-12-13T14:17:56.727Z"
   },
   {
    "duration": 178,
    "start_time": "2021-12-13T14:17:56.735Z"
   },
   {
    "duration": 16,
    "start_time": "2021-12-13T14:17:56.917Z"
   },
   {
    "duration": 33,
    "start_time": "2021-12-13T14:17:56.936Z"
   },
   {
    "duration": 6,
    "start_time": "2021-12-13T14:17:56.972Z"
   },
   {
    "duration": 52,
    "start_time": "2021-12-13T14:17:56.981Z"
   },
   {
    "duration": 7,
    "start_time": "2021-12-13T14:17:57.036Z"
   },
   {
    "duration": 31,
    "start_time": "2021-12-13T14:17:57.048Z"
   },
   {
    "duration": 60,
    "start_time": "2021-12-13T14:17:57.082Z"
   },
   {
    "duration": 29,
    "start_time": "2021-12-13T14:17:57.144Z"
   },
   {
    "duration": 99,
    "start_time": "2021-12-13T14:17:57.175Z"
   },
   {
    "duration": 101,
    "start_time": "2021-12-13T14:17:57.276Z"
   },
   {
    "duration": 80,
    "start_time": "2021-12-13T14:17:57.379Z"
   },
   {
    "duration": 10,
    "start_time": "2021-12-13T14:17:57.461Z"
   },
   {
    "duration": 9,
    "start_time": "2021-12-13T14:17:57.473Z"
   },
   {
    "duration": 24,
    "start_time": "2021-12-13T14:17:57.485Z"
   },
   {
    "duration": 10,
    "start_time": "2021-12-13T14:18:30.735Z"
   },
   {
    "duration": 4,
    "start_time": "2021-12-13T14:18:35.958Z"
   },
   {
    "duration": 195,
    "start_time": "2021-12-13T14:18:35.965Z"
   },
   {
    "duration": 16,
    "start_time": "2021-12-13T14:18:36.163Z"
   },
   {
    "duration": 52,
    "start_time": "2021-12-13T14:18:36.182Z"
   },
   {
    "duration": 16,
    "start_time": "2021-12-13T14:18:36.237Z"
   },
   {
    "duration": 31,
    "start_time": "2021-12-13T14:18:36.256Z"
   },
   {
    "duration": 7,
    "start_time": "2021-12-13T14:18:36.290Z"
   },
   {
    "duration": 71,
    "start_time": "2021-12-13T14:18:36.300Z"
   },
   {
    "duration": 47,
    "start_time": "2021-12-13T14:18:36.376Z"
   },
   {
    "duration": 30,
    "start_time": "2021-12-13T14:18:36.427Z"
   },
   {
    "duration": 139,
    "start_time": "2021-12-13T14:18:36.461Z"
   },
   {
    "duration": 142,
    "start_time": "2021-12-13T14:18:36.603Z"
   },
   {
    "duration": 122,
    "start_time": "2021-12-13T14:18:36.749Z"
   },
   {
    "duration": 14,
    "start_time": "2021-12-13T14:18:36.874Z"
   },
   {
    "duration": 16,
    "start_time": "2021-12-13T14:18:36.891Z"
   },
   {
    "duration": 35,
    "start_time": "2021-12-13T14:18:36.910Z"
   },
   {
    "duration": 22,
    "start_time": "2021-12-13T14:18:36.948Z"
   },
   {
    "duration": 6,
    "start_time": "2021-12-13T14:18:51.796Z"
   },
   {
    "duration": 105,
    "start_time": "2021-12-13T14:18:59.382Z"
   },
   {
    "duration": 10,
    "start_time": "2021-12-13T14:19:02.825Z"
   },
   {
    "duration": 293,
    "start_time": "2021-12-13T14:22:44.165Z"
   },
   {
    "duration": 393,
    "start_time": "2021-12-13T14:23:07.975Z"
   },
   {
    "duration": 56,
    "start_time": "2021-12-13T14:23:36.375Z"
   },
   {
    "duration": 9,
    "start_time": "2021-12-13T14:23:58.715Z"
   },
   {
    "duration": 356,
    "start_time": "2021-12-14T10:29:48.306Z"
   },
   {
    "duration": 258,
    "start_time": "2021-12-14T10:29:56.686Z"
   },
   {
    "duration": 288,
    "start_time": "2021-12-14T10:30:00.896Z"
   },
   {
    "duration": 257,
    "start_time": "2021-12-14T10:35:50.466Z"
   },
   {
    "duration": 310,
    "start_time": "2021-12-14T10:49:45.186Z"
   },
   {
    "duration": 290,
    "start_time": "2021-12-14T10:50:29.425Z"
   },
   {
    "duration": 318,
    "start_time": "2021-12-14T10:51:48.965Z"
   },
   {
    "duration": 356,
    "start_time": "2021-12-14T10:52:23.045Z"
   },
   {
    "duration": 362,
    "start_time": "2021-12-14T10:52:42.554Z"
   },
   {
    "duration": 283,
    "start_time": "2021-12-14T10:52:55.874Z"
   },
   {
    "duration": 902,
    "start_time": "2021-12-14T10:53:02.487Z"
   },
   {
    "duration": 211,
    "start_time": "2021-12-14T10:53:03.392Z"
   },
   {
    "duration": 32,
    "start_time": "2021-12-14T10:53:03.606Z"
   },
   {
    "duration": 48,
    "start_time": "2021-12-14T10:53:03.641Z"
   },
   {
    "duration": 6,
    "start_time": "2021-12-14T10:53:03.692Z"
   },
   {
    "duration": 33,
    "start_time": "2021-12-14T10:53:03.700Z"
   },
   {
    "duration": 33,
    "start_time": "2021-12-14T10:53:03.736Z"
   },
   {
    "duration": 34,
    "start_time": "2021-12-14T10:53:03.772Z"
   },
   {
    "duration": 23,
    "start_time": "2021-12-14T10:53:03.810Z"
   },
   {
    "duration": 59,
    "start_time": "2021-12-14T10:53:03.836Z"
   },
   {
    "duration": 122,
    "start_time": "2021-12-14T10:53:03.898Z"
   },
   {
    "duration": 131,
    "start_time": "2021-12-14T10:53:04.022Z"
   },
   {
    "duration": 86,
    "start_time": "2021-12-14T10:53:04.155Z"
   },
   {
    "duration": 25,
    "start_time": "2021-12-14T10:53:04.244Z"
   },
   {
    "duration": 5,
    "start_time": "2021-12-14T10:53:04.272Z"
   },
   {
    "duration": 16,
    "start_time": "2021-12-14T10:53:04.279Z"
   },
   {
    "duration": 4,
    "start_time": "2021-12-14T10:53:17.217Z"
   },
   {
    "duration": 213,
    "start_time": "2021-12-14T10:53:17.223Z"
   },
   {
    "duration": 17,
    "start_time": "2021-12-14T10:53:17.439Z"
   },
   {
    "duration": 47,
    "start_time": "2021-12-14T10:53:17.459Z"
   },
   {
    "duration": 5,
    "start_time": "2021-12-14T10:53:17.509Z"
   },
   {
    "duration": 20,
    "start_time": "2021-12-14T10:53:17.517Z"
   },
   {
    "duration": 34,
    "start_time": "2021-12-14T10:53:17.539Z"
   },
   {
    "duration": 65,
    "start_time": "2021-12-14T10:53:17.577Z"
   },
   {
    "duration": 47,
    "start_time": "2021-12-14T10:53:17.647Z"
   },
   {
    "duration": 57,
    "start_time": "2021-12-14T10:53:17.698Z"
   },
   {
    "duration": 103,
    "start_time": "2021-12-14T10:53:17.757Z"
   },
   {
    "duration": 105,
    "start_time": "2021-12-14T10:53:17.862Z"
   },
   {
    "duration": 111,
    "start_time": "2021-12-14T10:53:17.971Z"
   },
   {
    "duration": 9,
    "start_time": "2021-12-14T10:53:18.085Z"
   },
   {
    "duration": 11,
    "start_time": "2021-12-14T10:53:18.096Z"
   },
   {
    "duration": 16,
    "start_time": "2021-12-14T10:53:18.109Z"
   },
   {
    "duration": 40,
    "start_time": "2021-12-14T10:53:18.127Z"
   },
   {
    "duration": 13,
    "start_time": "2021-12-14T10:53:39.354Z"
   },
   {
    "duration": 15,
    "start_time": "2021-12-14T10:53:51.145Z"
   },
   {
    "duration": 15,
    "start_time": "2021-12-14T10:53:56.321Z"
   },
   {
    "duration": 19,
    "start_time": "2021-12-14T10:55:24.895Z"
   },
   {
    "duration": 342,
    "start_time": "2021-12-14T11:05:39.161Z"
   },
   {
    "duration": 95,
    "start_time": "2021-12-14T11:05:42.979Z"
   },
   {
    "duration": 98,
    "start_time": "2021-12-14T11:06:24.541Z"
   },
   {
    "duration": 60,
    "start_time": "2021-12-14T11:07:57.611Z"
   },
   {
    "duration": 3,
    "start_time": "2021-12-14T11:08:56.443Z"
   },
   {
    "duration": 240,
    "start_time": "2021-12-14T11:08:56.453Z"
   },
   {
    "duration": 24,
    "start_time": "2021-12-14T11:08:56.697Z"
   },
   {
    "duration": 88,
    "start_time": "2021-12-14T11:08:56.725Z"
   },
   {
    "duration": 11,
    "start_time": "2021-12-14T11:08:56.817Z"
   },
   {
    "duration": 49,
    "start_time": "2021-12-14T11:08:56.832Z"
   },
   {
    "duration": 7,
    "start_time": "2021-12-14T11:08:56.884Z"
   },
   {
    "duration": 43,
    "start_time": "2021-12-14T11:08:56.893Z"
   },
   {
    "duration": 48,
    "start_time": "2021-12-14T11:08:56.939Z"
   },
   {
    "duration": 44,
    "start_time": "2021-12-14T11:08:56.990Z"
   },
   {
    "duration": 99,
    "start_time": "2021-12-14T11:08:57.037Z"
   },
   {
    "duration": 112,
    "start_time": "2021-12-14T11:08:57.139Z"
   },
   {
    "duration": 85,
    "start_time": "2021-12-14T11:08:57.254Z"
   },
   {
    "duration": 9,
    "start_time": "2021-12-14T11:08:57.342Z"
   },
   {
    "duration": 12,
    "start_time": "2021-12-14T11:08:57.368Z"
   },
   {
    "duration": 29,
    "start_time": "2021-12-14T11:08:57.382Z"
   },
   {
    "duration": 5,
    "start_time": "2021-12-14T11:11:09.835Z"
   },
   {
    "duration": 289,
    "start_time": "2021-12-14T11:11:15.572Z"
   },
   {
    "duration": 105318,
    "start_time": "2021-12-14T11:10:03.511Z"
   },
   {
    "duration": 105306,
    "start_time": "2021-12-14T11:10:03.525Z"
   },
   {
    "duration": 105301,
    "start_time": "2021-12-14T11:10:03.531Z"
   },
   {
    "duration": 105297,
    "start_time": "2021-12-14T11:10:03.537Z"
   },
   {
    "duration": 105295,
    "start_time": "2021-12-14T11:10:03.540Z"
   },
   {
    "duration": 105293,
    "start_time": "2021-12-14T11:10:03.544Z"
   },
   {
    "duration": 105290,
    "start_time": "2021-12-14T11:10:03.548Z"
   },
   {
    "duration": 105287,
    "start_time": "2021-12-14T11:10:03.553Z"
   },
   {
    "duration": 105285,
    "start_time": "2021-12-14T11:10:03.556Z"
   },
   {
    "duration": 105286,
    "start_time": "2021-12-14T11:10:03.559Z"
   },
   {
    "duration": 105285,
    "start_time": "2021-12-14T11:10:03.562Z"
   },
   {
    "duration": 105282,
    "start_time": "2021-12-14T11:10:03.567Z"
   },
   {
    "duration": 105281,
    "start_time": "2021-12-14T11:10:03.570Z"
   },
   {
    "duration": 105280,
    "start_time": "2021-12-14T11:10:03.573Z"
   },
   {
    "duration": 105272,
    "start_time": "2021-12-14T11:10:03.584Z"
   },
   {
    "duration": 105270,
    "start_time": "2021-12-14T11:10:03.588Z"
   },
   {
    "duration": 105269,
    "start_time": "2021-12-14T11:10:03.591Z"
   },
   {
    "duration": 105268,
    "start_time": "2021-12-14T11:10:03.594Z"
   },
   {
    "duration": 105264,
    "start_time": "2021-12-14T11:10:03.600Z"
   },
   {
    "duration": 105263,
    "start_time": "2021-12-14T11:10:03.603Z"
   },
   {
    "duration": 105262,
    "start_time": "2021-12-14T11:10:03.606Z"
   },
   {
    "duration": 7858,
    "start_time": "2021-12-14T11:12:31.491Z"
   },
   {
    "duration": 5,
    "start_time": "2021-12-14T11:15:33.672Z"
   },
   {
    "duration": 682,
    "start_time": "2021-12-14T11:15:37.659Z"
   },
   {
    "duration": 62,
    "start_time": "2021-12-14T11:18:13.467Z"
   },
   {
    "duration": 17,
    "start_time": "2021-12-14T11:18:38.258Z"
   },
   {
    "duration": 15,
    "start_time": "2021-12-14T11:19:16.871Z"
   },
   {
    "duration": 5,
    "start_time": "2021-12-14T11:22:44.187Z"
   },
   {
    "duration": 8056,
    "start_time": "2021-12-14T11:22:47.152Z"
   },
   {
    "duration": 4,
    "start_time": "2021-12-14T11:30:59.376Z"
   },
   {
    "duration": 214,
    "start_time": "2021-12-14T11:30:59.382Z"
   },
   {
    "duration": 15,
    "start_time": "2021-12-14T11:30:59.599Z"
   },
   {
    "duration": 51,
    "start_time": "2021-12-14T11:30:59.617Z"
   },
   {
    "duration": 14,
    "start_time": "2021-12-14T11:30:59.670Z"
   },
   {
    "duration": 41,
    "start_time": "2021-12-14T11:30:59.687Z"
   },
   {
    "duration": 21,
    "start_time": "2021-12-14T11:30:59.731Z"
   },
   {
    "duration": 54,
    "start_time": "2021-12-14T11:30:59.754Z"
   },
   {
    "duration": 30,
    "start_time": "2021-12-14T11:30:59.811Z"
   },
   {
    "duration": 33,
    "start_time": "2021-12-14T11:30:59.844Z"
   },
   {
    "duration": 104,
    "start_time": "2021-12-14T11:30:59.880Z"
   },
   {
    "duration": 109,
    "start_time": "2021-12-14T11:30:59.987Z"
   },
   {
    "duration": 105,
    "start_time": "2021-12-14T11:31:00.099Z"
   },
   {
    "duration": 14,
    "start_time": "2021-12-14T11:31:00.207Z"
   },
   {
    "duration": 13,
    "start_time": "2021-12-14T11:31:00.224Z"
   },
   {
    "duration": 36,
    "start_time": "2021-12-14T11:31:00.240Z"
   },
   {
    "duration": 77,
    "start_time": "2021-12-14T11:31:00.279Z"
   },
   {
    "duration": 22,
    "start_time": "2021-12-14T11:31:00.358Z"
   },
   {
    "duration": 18,
    "start_time": "2021-12-14T11:31:00.382Z"
   },
   {
    "duration": 24,
    "start_time": "2021-12-14T11:31:00.402Z"
   },
   {
    "duration": 2254,
    "start_time": "2021-12-14T11:32:33.325Z"
   },
   {
    "duration": 3206,
    "start_time": "2021-12-14T11:32:57.828Z"
   },
   {
    "duration": 4,
    "start_time": "2021-12-14T11:34:23.477Z"
   },
   {
    "duration": 200,
    "start_time": "2021-12-14T11:34:23.489Z"
   },
   {
    "duration": 16,
    "start_time": "2021-12-14T11:34:23.692Z"
   },
   {
    "duration": 56,
    "start_time": "2021-12-14T11:34:23.711Z"
   },
   {
    "duration": 6,
    "start_time": "2021-12-14T11:34:23.770Z"
   },
   {
    "duration": 27,
    "start_time": "2021-12-14T11:34:23.778Z"
   },
   {
    "duration": 5,
    "start_time": "2021-12-14T11:34:23.807Z"
   },
   {
    "duration": 63,
    "start_time": "2021-12-14T11:34:23.814Z"
   },
   {
    "duration": 28,
    "start_time": "2021-12-14T11:34:23.879Z"
   },
   {
    "duration": 31,
    "start_time": "2021-12-14T11:34:23.912Z"
   },
   {
    "duration": 106,
    "start_time": "2021-12-14T11:34:23.945Z"
   },
   {
    "duration": 115,
    "start_time": "2021-12-14T11:34:24.053Z"
   },
   {
    "duration": 80,
    "start_time": "2021-12-14T11:34:24.170Z"
   },
   {
    "duration": 22,
    "start_time": "2021-12-14T11:34:24.252Z"
   },
   {
    "duration": 5,
    "start_time": "2021-12-14T11:34:24.277Z"
   },
   {
    "duration": 22,
    "start_time": "2021-12-14T11:34:24.284Z"
   },
   {
    "duration": 96,
    "start_time": "2021-12-14T11:34:24.309Z"
   },
   {
    "duration": 19,
    "start_time": "2021-12-14T11:34:24.407Z"
   },
   {
    "duration": 45,
    "start_time": "2021-12-14T11:34:24.429Z"
   },
   {
    "duration": 4,
    "start_time": "2021-12-14T11:34:24.477Z"
   },
   {
    "duration": 3,
    "start_time": "2021-12-14T11:37:09.036Z"
   },
   {
    "duration": 187,
    "start_time": "2021-12-14T11:37:09.049Z"
   },
   {
    "duration": 28,
    "start_time": "2021-12-14T11:37:09.239Z"
   },
   {
    "duration": 32,
    "start_time": "2021-12-14T11:37:09.270Z"
   },
   {
    "duration": 5,
    "start_time": "2021-12-14T11:37:09.305Z"
   },
   {
    "duration": 17,
    "start_time": "2021-12-14T11:37:09.312Z"
   },
   {
    "duration": 39,
    "start_time": "2021-12-14T11:37:09.331Z"
   },
   {
    "duration": 33,
    "start_time": "2021-12-14T11:37:09.373Z"
   },
   {
    "duration": 23,
    "start_time": "2021-12-14T11:37:09.409Z"
   },
   {
    "duration": 60,
    "start_time": "2021-12-14T11:37:09.435Z"
   },
   {
    "duration": 106,
    "start_time": "2021-12-14T11:37:09.499Z"
   },
   {
    "duration": 107,
    "start_time": "2021-12-14T11:37:09.607Z"
   },
   {
    "duration": 88,
    "start_time": "2021-12-14T11:37:09.716Z"
   },
   {
    "duration": 9,
    "start_time": "2021-12-14T11:37:09.807Z"
   },
   {
    "duration": 5,
    "start_time": "2021-12-14T11:37:09.818Z"
   },
   {
    "duration": 42,
    "start_time": "2021-12-14T11:37:09.825Z"
   },
   {
    "duration": 61,
    "start_time": "2021-12-14T11:37:09.869Z"
   },
   {
    "duration": 38,
    "start_time": "2021-12-14T11:37:09.932Z"
   },
   {
    "duration": 16,
    "start_time": "2021-12-14T11:37:09.972Z"
   },
   {
    "duration": 3,
    "start_time": "2021-12-14T11:37:14.547Z"
   },
   {
    "duration": 200,
    "start_time": "2021-12-14T11:37:14.553Z"
   },
   {
    "duration": 24,
    "start_time": "2021-12-14T11:37:14.757Z"
   },
   {
    "duration": 39,
    "start_time": "2021-12-14T11:37:14.783Z"
   },
   {
    "duration": 16,
    "start_time": "2021-12-14T11:37:14.825Z"
   },
   {
    "duration": 41,
    "start_time": "2021-12-14T11:37:14.843Z"
   },
   {
    "duration": 6,
    "start_time": "2021-12-14T11:37:14.886Z"
   },
   {
    "duration": 42,
    "start_time": "2021-12-14T11:37:14.894Z"
   },
   {
    "duration": 35,
    "start_time": "2021-12-14T11:37:14.940Z"
   },
   {
    "duration": 36,
    "start_time": "2021-12-14T11:37:14.978Z"
   },
   {
    "duration": 101,
    "start_time": "2021-12-14T11:37:15.016Z"
   },
   {
    "duration": 113,
    "start_time": "2021-12-14T11:37:15.119Z"
   },
   {
    "duration": 86,
    "start_time": "2021-12-14T11:37:15.235Z"
   },
   {
    "duration": 13,
    "start_time": "2021-12-14T11:37:15.323Z"
   },
   {
    "duration": 5,
    "start_time": "2021-12-14T11:37:15.339Z"
   },
   {
    "duration": 17,
    "start_time": "2021-12-14T11:37:15.368Z"
   },
   {
    "duration": 80,
    "start_time": "2021-12-14T11:37:15.387Z"
   },
   {
    "duration": 16,
    "start_time": "2021-12-14T11:37:15.469Z"
   },
   {
    "duration": 16,
    "start_time": "2021-12-14T11:37:15.487Z"
   },
   {
    "duration": 5,
    "start_time": "2021-12-14T11:37:15.505Z"
   },
   {
    "duration": 5,
    "start_time": "2021-12-14T11:40:47.734Z"
   },
   {
    "duration": 22,
    "start_time": "2021-12-14T11:40:51.405Z"
   },
   {
    "duration": 19,
    "start_time": "2021-12-14T11:41:20.684Z"
   },
   {
    "duration": 23,
    "start_time": "2021-12-14T11:42:48.054Z"
   },
   {
    "duration": 19,
    "start_time": "2021-12-14T11:42:50.055Z"
   },
   {
    "duration": 21,
    "start_time": "2021-12-14T11:42:52.255Z"
   },
   {
    "duration": 19,
    "start_time": "2021-12-14T11:42:54.315Z"
   },
   {
    "duration": 98,
    "start_time": "2021-12-14T11:47:41.505Z"
   },
   {
    "duration": 6,
    "start_time": "2021-12-14T11:48:17.986Z"
   },
   {
    "duration": 6,
    "start_time": "2021-12-14T11:48:21.505Z"
   },
   {
    "duration": 4,
    "start_time": "2021-12-14T11:48:34.744Z"
   },
   {
    "duration": 211,
    "start_time": "2021-12-14T11:48:34.751Z"
   },
   {
    "duration": 16,
    "start_time": "2021-12-14T11:48:34.965Z"
   },
   {
    "duration": 40,
    "start_time": "2021-12-14T11:48:34.984Z"
   },
   {
    "duration": 6,
    "start_time": "2021-12-14T11:48:35.026Z"
   },
   {
    "duration": 48,
    "start_time": "2021-12-14T11:48:35.034Z"
   },
   {
    "duration": 11,
    "start_time": "2021-12-14T11:48:35.084Z"
   },
   {
    "duration": 54,
    "start_time": "2021-12-14T11:48:35.098Z"
   },
   {
    "duration": 34,
    "start_time": "2021-12-14T11:48:35.171Z"
   },
   {
    "duration": 63,
    "start_time": "2021-12-14T11:48:35.210Z"
   },
   {
    "duration": 140,
    "start_time": "2021-12-14T11:48:35.277Z"
   },
   {
    "duration": 117,
    "start_time": "2021-12-14T11:48:35.419Z"
   },
   {
    "duration": 88,
    "start_time": "2021-12-14T11:48:35.538Z"
   },
   {
    "duration": 10,
    "start_time": "2021-12-14T11:48:35.628Z"
   },
   {
    "duration": 5,
    "start_time": "2021-12-14T11:48:35.640Z"
   },
   {
    "duration": 15,
    "start_time": "2021-12-14T11:48:35.667Z"
   },
   {
    "duration": 73,
    "start_time": "2021-12-14T11:48:35.685Z"
   },
   {
    "duration": 17,
    "start_time": "2021-12-14T11:48:35.768Z"
   },
   {
    "duration": 23,
    "start_time": "2021-12-14T11:48:35.788Z"
   },
   {
    "duration": 5,
    "start_time": "2021-12-14T11:48:35.813Z"
   },
   {
    "duration": 62,
    "start_time": "2021-12-14T11:48:35.820Z"
   },
   {
    "duration": 18,
    "start_time": "2021-12-14T11:48:35.884Z"
   },
   {
    "duration": 36,
    "start_time": "2021-12-14T11:48:35.904Z"
   },
   {
    "duration": 36,
    "start_time": "2021-12-14T11:48:35.943Z"
   },
   {
    "duration": 22,
    "start_time": "2021-12-14T11:48:35.982Z"
   },
   {
    "duration": 19,
    "start_time": "2021-12-14T11:48:36.006Z"
   },
   {
    "duration": 6,
    "start_time": "2021-12-14T11:48:53.975Z"
   },
   {
    "duration": 4,
    "start_time": "2021-12-14T11:48:58.616Z"
   },
   {
    "duration": 213,
    "start_time": "2021-12-14T11:48:58.623Z"
   },
   {
    "duration": 16,
    "start_time": "2021-12-14T11:48:58.840Z"
   },
   {
    "duration": 34,
    "start_time": "2021-12-14T11:48:58.867Z"
   },
   {
    "duration": 6,
    "start_time": "2021-12-14T11:48:58.904Z"
   },
   {
    "duration": 54,
    "start_time": "2021-12-14T11:48:58.913Z"
   },
   {
    "duration": 5,
    "start_time": "2021-12-14T11:48:58.970Z"
   },
   {
    "duration": 49,
    "start_time": "2021-12-14T11:48:58.978Z"
   },
   {
    "duration": 41,
    "start_time": "2021-12-14T11:48:59.031Z"
   },
   {
    "duration": 41,
    "start_time": "2021-12-14T11:48:59.075Z"
   },
   {
    "duration": 107,
    "start_time": "2021-12-14T11:48:59.119Z"
   },
   {
    "duration": 116,
    "start_time": "2021-12-14T11:48:59.229Z"
   },
   {
    "duration": 107,
    "start_time": "2021-12-14T11:48:59.347Z"
   },
   {
    "duration": 21,
    "start_time": "2021-12-14T11:48:59.457Z"
   },
   {
    "duration": 11,
    "start_time": "2021-12-14T11:48:59.481Z"
   },
   {
    "duration": 22,
    "start_time": "2021-12-14T11:48:59.495Z"
   },
   {
    "duration": 93,
    "start_time": "2021-12-14T11:48:59.519Z"
   },
   {
    "duration": 17,
    "start_time": "2021-12-14T11:48:59.614Z"
   },
   {
    "duration": 44,
    "start_time": "2021-12-14T11:48:59.634Z"
   },
   {
    "duration": 7,
    "start_time": "2021-12-14T11:48:59.681Z"
   },
   {
    "duration": 39,
    "start_time": "2021-12-14T11:48:59.690Z"
   },
   {
    "duration": 34,
    "start_time": "2021-12-14T11:48:59.732Z"
   },
   {
    "duration": 25,
    "start_time": "2021-12-14T11:48:59.769Z"
   },
   {
    "duration": 46,
    "start_time": "2021-12-14T11:48:59.797Z"
   },
   {
    "duration": 39,
    "start_time": "2021-12-14T11:48:59.846Z"
   },
   {
    "duration": 50,
    "start_time": "2021-12-14T11:48:59.887Z"
   },
   {
    "duration": 6,
    "start_time": "2021-12-14T11:49:40.405Z"
   },
   {
    "duration": 6,
    "start_time": "2021-12-14T11:49:46.735Z"
   },
   {
    "duration": 6,
    "start_time": "2021-12-14T11:50:38.192Z"
   },
   {
    "duration": 4,
    "start_time": "2021-12-14T11:51:19.249Z"
   },
   {
    "duration": 203,
    "start_time": "2021-12-14T11:51:19.258Z"
   },
   {
    "duration": 16,
    "start_time": "2021-12-14T11:51:19.464Z"
   },
   {
    "duration": 35,
    "start_time": "2021-12-14T11:51:19.483Z"
   },
   {
    "duration": 7,
    "start_time": "2021-12-14T11:51:19.521Z"
   },
   {
    "duration": 58,
    "start_time": "2021-12-14T11:51:19.531Z"
   },
   {
    "duration": 6,
    "start_time": "2021-12-14T11:51:19.591Z"
   },
   {
    "duration": 42,
    "start_time": "2021-12-14T11:51:19.599Z"
   },
   {
    "duration": 46,
    "start_time": "2021-12-14T11:51:19.643Z"
   },
   {
    "duration": 32,
    "start_time": "2021-12-14T11:51:19.693Z"
   },
   {
    "duration": 115,
    "start_time": "2021-12-14T11:51:19.728Z"
   },
   {
    "duration": 110,
    "start_time": "2021-12-14T11:51:19.845Z"
   },
   {
    "duration": 86,
    "start_time": "2021-12-14T11:51:19.958Z"
   },
   {
    "duration": 26,
    "start_time": "2021-12-14T11:51:20.046Z"
   },
   {
    "duration": 6,
    "start_time": "2021-12-14T11:51:20.074Z"
   },
   {
    "duration": 17,
    "start_time": "2021-12-14T11:51:20.083Z"
   },
   {
    "duration": 90,
    "start_time": "2021-12-14T11:51:20.102Z"
   },
   {
    "duration": 17,
    "start_time": "2021-12-14T11:51:20.195Z"
   },
   {
    "duration": 16,
    "start_time": "2021-12-14T11:51:20.214Z"
   },
   {
    "duration": 35,
    "start_time": "2021-12-14T11:51:20.232Z"
   },
   {
    "duration": 29,
    "start_time": "2021-12-14T11:51:20.270Z"
   },
   {
    "duration": 18,
    "start_time": "2021-12-14T11:51:20.301Z"
   },
   {
    "duration": 48,
    "start_time": "2021-12-14T11:51:20.321Z"
   },
   {
    "duration": 17,
    "start_time": "2021-12-14T11:51:20.372Z"
   },
   {
    "duration": 36,
    "start_time": "2021-12-14T11:51:20.392Z"
   },
   {
    "duration": 38,
    "start_time": "2021-12-14T11:51:20.431Z"
   },
   {
    "duration": 6,
    "start_time": "2021-12-14T11:53:06.544Z"
   },
   {
    "duration": 7,
    "start_time": "2021-12-14T11:53:39.859Z"
   },
   {
    "duration": 13,
    "start_time": "2021-12-14T11:53:53.440Z"
   },
   {
    "duration": 343,
    "start_time": "2021-12-14T11:57:28.802Z"
   },
   {
    "duration": 14,
    "start_time": "2021-12-14T11:59:17.826Z"
   },
   {
    "duration": 15,
    "start_time": "2021-12-14T11:59:46.055Z"
   },
   {
    "duration": 300,
    "start_time": "2021-12-14T12:11:23.657Z"
   },
   {
    "duration": 7,
    "start_time": "2021-12-14T12:11:38.778Z"
   },
   {
    "duration": 616,
    "start_time": "2021-12-14T12:12:19.323Z"
   },
   {
    "duration": 5,
    "start_time": "2021-12-14T12:14:04.925Z"
   },
   {
    "duration": 579,
    "start_time": "2021-12-14T12:14:08.121Z"
   },
   {
    "duration": 6,
    "start_time": "2021-12-14T12:15:27.829Z"
   },
   {
    "duration": 710,
    "start_time": "2021-12-14T12:15:31.161Z"
   },
   {
    "duration": 3,
    "start_time": "2021-12-14T12:17:08.167Z"
   },
   {
    "duration": 214,
    "start_time": "2021-12-14T12:17:08.173Z"
   },
   {
    "duration": 16,
    "start_time": "2021-12-14T12:17:08.390Z"
   },
   {
    "duration": 37,
    "start_time": "2021-12-14T12:17:08.409Z"
   },
   {
    "duration": 5,
    "start_time": "2021-12-14T12:17:08.468Z"
   },
   {
    "duration": 23,
    "start_time": "2021-12-14T12:17:08.475Z"
   },
   {
    "duration": 4,
    "start_time": "2021-12-14T12:17:08.501Z"
   },
   {
    "duration": 63,
    "start_time": "2021-12-14T12:17:08.509Z"
   },
   {
    "duration": 23,
    "start_time": "2021-12-14T12:17:08.576Z"
   },
   {
    "duration": 31,
    "start_time": "2021-12-14T12:17:08.601Z"
   },
   {
    "duration": 115,
    "start_time": "2021-12-14T12:17:08.635Z"
   },
   {
    "duration": 115,
    "start_time": "2021-12-14T12:17:08.752Z"
   },
   {
    "duration": 77,
    "start_time": "2021-12-14T12:17:08.870Z"
   },
   {
    "duration": 22,
    "start_time": "2021-12-14T12:17:08.949Z"
   },
   {
    "duration": 4,
    "start_time": "2021-12-14T12:17:08.974Z"
   },
   {
    "duration": 23,
    "start_time": "2021-12-14T12:17:08.981Z"
   },
   {
    "duration": 84,
    "start_time": "2021-12-14T12:17:09.006Z"
   },
   {
    "duration": 15,
    "start_time": "2021-12-14T12:17:09.093Z"
   },
   {
    "duration": 15,
    "start_time": "2021-12-14T12:17:09.111Z"
   },
   {
    "duration": 6,
    "start_time": "2021-12-14T12:17:09.128Z"
   },
   {
    "duration": 21,
    "start_time": "2021-12-14T12:17:09.168Z"
   },
   {
    "duration": 18,
    "start_time": "2021-12-14T12:17:09.191Z"
   },
   {
    "duration": 19,
    "start_time": "2021-12-14T12:17:09.214Z"
   },
   {
    "duration": 19,
    "start_time": "2021-12-14T12:17:09.268Z"
   },
   {
    "duration": 22,
    "start_time": "2021-12-14T12:17:09.289Z"
   },
   {
    "duration": 18,
    "start_time": "2021-12-14T12:17:09.313Z"
   },
   {
    "duration": 46,
    "start_time": "2021-12-14T12:17:09.333Z"
   },
   {
    "duration": 15,
    "start_time": "2021-12-14T12:17:09.382Z"
   },
   {
    "duration": 12,
    "start_time": "2021-12-14T12:17:09.400Z"
   },
   {
    "duration": 6,
    "start_time": "2021-12-14T12:17:09.414Z"
   },
   {
    "duration": 24,
    "start_time": "2021-12-14T12:19:43.881Z"
   },
   {
    "duration": 17,
    "start_time": "2021-12-14T12:20:25.336Z"
   },
   {
    "duration": 25,
    "start_time": "2021-12-14T12:21:35.774Z"
   },
   {
    "duration": 18,
    "start_time": "2021-12-14T12:21:38.523Z"
   },
   {
    "duration": 12,
    "start_time": "2021-12-14T12:24:55.088Z"
   },
   {
    "duration": 6,
    "start_time": "2021-12-14T12:25:23.807Z"
   },
   {
    "duration": 296,
    "start_time": "2021-12-14T12:26:39.133Z"
   },
   {
    "duration": 7,
    "start_time": "2021-12-14T13:01:09.977Z"
   },
   {
    "duration": 620,
    "start_time": "2021-12-14T23:07:29.737Z"
   },
   {
    "duration": 147,
    "start_time": "2021-12-14T23:07:30.362Z"
   },
   {
    "duration": 16,
    "start_time": "2021-12-14T23:07:30.511Z"
   },
   {
    "duration": 34,
    "start_time": "2021-12-14T23:07:30.529Z"
   },
   {
    "duration": 5,
    "start_time": "2021-12-14T23:07:30.565Z"
   },
   {
    "duration": 47,
    "start_time": "2021-12-14T23:07:30.571Z"
   },
   {
    "duration": 17,
    "start_time": "2021-12-14T23:07:30.619Z"
   },
   {
    "duration": 35,
    "start_time": "2021-12-14T23:07:30.639Z"
   },
   {
    "duration": 44,
    "start_time": "2021-12-14T23:07:30.676Z"
   },
   {
    "duration": 22,
    "start_time": "2021-12-14T23:07:30.722Z"
   },
   {
    "duration": 59,
    "start_time": "2021-12-14T23:07:30.746Z"
   },
   {
    "duration": 75,
    "start_time": "2021-12-14T23:07:30.807Z"
   },
   {
    "duration": 51,
    "start_time": "2021-12-14T23:07:30.884Z"
   },
   {
    "duration": 7,
    "start_time": "2021-12-14T23:07:30.937Z"
   },
   {
    "duration": 21,
    "start_time": "2021-12-14T23:07:30.945Z"
   },
   {
    "duration": 34,
    "start_time": "2021-12-14T23:07:30.968Z"
   },
   {
    "duration": 57,
    "start_time": "2021-12-14T23:07:31.004Z"
   },
   {
    "duration": 12,
    "start_time": "2021-12-14T23:07:31.063Z"
   },
   {
    "duration": 12,
    "start_time": "2021-12-14T23:07:31.077Z"
   },
   {
    "duration": 10,
    "start_time": "2021-12-14T23:07:31.090Z"
   },
   {
    "duration": 27,
    "start_time": "2021-12-14T23:07:31.102Z"
   },
   {
    "duration": 15,
    "start_time": "2021-12-14T23:07:31.131Z"
   },
   {
    "duration": 27,
    "start_time": "2021-12-14T23:07:31.149Z"
   },
   {
    "duration": 43,
    "start_time": "2021-12-14T23:07:31.179Z"
   },
   {
    "duration": 18,
    "start_time": "2021-12-14T23:07:31.225Z"
   },
   {
    "duration": 22,
    "start_time": "2021-12-14T23:07:31.245Z"
   },
   {
    "duration": 10,
    "start_time": "2021-12-14T23:07:31.269Z"
   },
   {
    "duration": 18,
    "start_time": "2021-12-14T23:07:31.280Z"
   },
   {
    "duration": 26,
    "start_time": "2021-12-14T23:07:31.300Z"
   },
   {
    "duration": 11,
    "start_time": "2021-12-14T23:07:31.327Z"
   },
   {
    "duration": 25,
    "start_time": "2021-12-14T23:07:31.340Z"
   },
   {
    "duration": 18,
    "start_time": "2021-12-14T23:07:31.367Z"
   },
   {
    "duration": 26,
    "start_time": "2021-12-14T23:07:31.387Z"
   },
   {
    "duration": 26,
    "start_time": "2021-12-14T23:07:31.415Z"
   },
   {
    "duration": 35,
    "start_time": "2021-12-14T23:07:31.443Z"
   },
   {
    "duration": 22,
    "start_time": "2021-12-14T23:07:31.480Z"
   },
   {
    "duration": 21,
    "start_time": "2021-12-14T23:07:31.504Z"
   },
   {
    "duration": 25,
    "start_time": "2021-12-14T23:07:31.527Z"
   },
   {
    "duration": 673,
    "start_time": "2021-12-15T19:27:10.952Z"
   },
   {
    "duration": 787,
    "start_time": "2021-12-15T19:27:37.754Z"
   },
   {
    "duration": 201,
    "start_time": "2021-12-15T19:27:38.544Z"
   },
   {
    "duration": 25,
    "start_time": "2021-12-15T19:27:38.748Z"
   },
   {
    "duration": 34,
    "start_time": "2021-12-15T19:27:38.776Z"
   },
   {
    "duration": 7,
    "start_time": "2021-12-15T19:27:38.813Z"
   },
   {
    "duration": 62,
    "start_time": "2021-12-15T19:27:38.823Z"
   },
   {
    "duration": 15,
    "start_time": "2021-12-15T19:27:38.887Z"
   },
   {
    "duration": 34,
    "start_time": "2021-12-15T19:27:38.905Z"
   },
   {
    "duration": 39,
    "start_time": "2021-12-15T19:27:38.943Z"
   },
   {
    "duration": 27,
    "start_time": "2021-12-15T19:27:38.985Z"
   },
   {
    "duration": 104,
    "start_time": "2021-12-15T19:27:39.014Z"
   },
   {
    "duration": 109,
    "start_time": "2021-12-15T19:27:39.121Z"
   },
   {
    "duration": 84,
    "start_time": "2021-12-15T19:27:39.233Z"
   },
   {
    "duration": 60,
    "start_time": "2021-12-15T19:28:05.233Z"
   },
   {
    "duration": 283,
    "start_time": "2021-12-15T19:29:35.746Z"
   },
   {
    "duration": 182,
    "start_time": "2021-12-15T19:30:09.415Z"
   },
   {
    "duration": 175,
    "start_time": "2021-12-15T19:30:17.403Z"
   },
   {
    "duration": 427,
    "start_time": "2021-12-15T19:30:54.274Z"
   },
   {
    "duration": 64,
    "start_time": "2021-12-15T19:31:24.959Z"
   },
   {
    "duration": 146,
    "start_time": "2021-12-15T19:37:08.360Z"
   },
   {
    "duration": 130,
    "start_time": "2021-12-15T19:37:24.639Z"
   },
   {
    "duration": 148,
    "start_time": "2021-12-15T19:37:38.765Z"
   },
   {
    "duration": 145,
    "start_time": "2021-12-15T19:38:03.239Z"
   },
   {
    "duration": 132,
    "start_time": "2021-12-15T19:38:13.412Z"
   },
   {
    "duration": 137,
    "start_time": "2021-12-15T19:40:05.692Z"
   },
   {
    "duration": 85,
    "start_time": "2021-12-16T09:50:57.780Z"
   },
   {
    "duration": 84,
    "start_time": "2021-12-17T14:25:03.229Z"
   },
   {
    "duration": 94,
    "start_time": "2021-12-17T14:25:28.948Z"
   }
  ],
  "colab": {
   "collapsed_sections": [
    "E0vqbgi9ay0H",
    "VUC88oWjTJw2"
   ],
   "name": "yandex_music_project_2021.2.ipynb",
   "provenance": []
  },
  "kernelspec": {
   "display_name": "Python 3 (ipykernel)",
   "language": "python",
   "name": "python3"
  },
  "language_info": {
   "codemirror_mode": {
    "name": "ipython",
    "version": 3
   },
   "file_extension": ".py",
   "mimetype": "text/x-python",
   "name": "python",
   "nbconvert_exporter": "python",
   "pygments_lexer": "ipython3",
   "version": "3.9.7"
  },
  "toc": {
   "base_numbering": 1,
   "nav_menu": {},
   "number_sections": true,
   "sideBar": true,
   "skip_h1_title": true,
   "title_cell": "Table of Contents",
   "title_sidebar": "Contents",
   "toc_cell": false,
   "toc_position": {},
   "toc_section_display": true,
   "toc_window_display": true
  }
 },
 "nbformat": 4,
 "nbformat_minor": 1
}
